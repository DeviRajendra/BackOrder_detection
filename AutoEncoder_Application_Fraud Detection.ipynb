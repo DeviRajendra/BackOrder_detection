{
 "cells": [
  {
   "cell_type": "markdown",
   "metadata": {
    "id": "gVBy5D-SGnOY"
   },
   "source": [
    "### Load required libraries"
   ]
  },
  {
   "cell_type": "code",
   "execution_count": 3,
   "metadata": {
    "ExecuteTime": {
     "end_time": "2021-02-27T07:48:01.833492Z",
     "start_time": "2021-02-27T07:48:01.820495Z"
    },
    "executionInfo": {
     "elapsed": 802,
     "status": "ok",
     "timestamp": 1614423015030,
     "user": {
      "displayName": "Praveen Vemula",
      "photoUrl": "https://lh3.googleusercontent.com/-H_nlUTFpMqY/AAAAAAAAAAI/AAAAAAAAAv0/LQmGEmg0TKQ/s64/photo.jpg",
      "userId": "12794086371536443549"
     },
     "user_tz": -330
    },
    "id": "T8KP2fmxGnOg"
   },
   "outputs": [],
   "source": [
    "import pandas as pd\n",
    "import numpy as np\n",
    "\n",
    "from sklearn.model_selection import train_test_split\n",
    "\n",
    "from tensorflow.keras.layers import Input, Dense, Dropout\n",
    "from tensorflow.keras.models import Model\n",
    "\n",
    "import matplotlib.pyplot as plt\n",
    "%matplotlib inline"
   ]
  },
  {
   "cell_type": "markdown",
   "metadata": {
    "id": "RwGa00N8GnOh"
   },
   "source": [
    "### Reading the data"
   ]
  },
  {
   "cell_type": "code",
   "execution_count": 14,
   "metadata": {
    "ExecuteTime": {
     "end_time": "2021-02-27T07:48:03.582209Z",
     "start_time": "2021-02-27T07:48:02.209085Z"
    },
    "executionInfo": {
     "elapsed": 1684,
     "status": "ok",
     "timestamp": 1614423178269,
     "user": {
      "displayName": "Praveen Vemula",
      "photoUrl": "https://lh3.googleusercontent.com/-H_nlUTFpMqY/AAAAAAAAAAI/AAAAAAAAAv0/LQmGEmg0TKQ/s64/photo.jpg",
      "userId": "12794086371536443549"
     },
     "user_tz": -330
    },
    "id": "fwHirbEBGnOh"
   },
   "outputs": [],
   "source": [
    "data = pd.read_csv(\"/content/drive/MyDrive/Academics/Batch-77A/Day3/today/Fraud_data_amtstd.csv\")"
   ]
  },
  {
   "cell_type": "markdown",
   "metadata": {
    "id": "sD-pG9EMGnOi"
   },
   "source": [
    "### Understand the data"
   ]
  },
  {
   "cell_type": "markdown",
   "metadata": {
    "id": "nRvpOwfAGnOi"
   },
   "source": [
    "#### Display No. of records and attributes "
   ]
  },
  {
   "cell_type": "markdown",
   "metadata": {
    "id": "1Rybpz0tGnOk"
   },
   "source": [
    " Observation: \n",
    " \n",
    "        Data has 30 attributes and 1 lakh records"
   ]
  },
  {
   "cell_type": "markdown",
   "metadata": {
    "id": "F-x_vxijGnOk"
   },
   "source": [
    "#### Look at first 5 records"
   ]
  },
  {
   "cell_type": "markdown",
   "metadata": {
    "id": "pNhcrw3JGnOl"
   },
   "source": [
    "#### Display column names"
   ]
  },
  {
   "cell_type": "markdown",
   "metadata": {
    "id": "uTCLZJ6FGnOm"
   },
   "source": [
    "#### Data distribution w.r.t target attributes"
   ]
  },
  {
   "cell_type": "code",
   "execution_count": 15,
   "metadata": {
    "ExecuteTime": {
     "end_time": "2021-02-27T07:48:04.590748Z",
     "start_time": "2021-02-27T07:48:04.534748Z"
    },
    "colab": {
     "base_uri": "https://localhost:8080/"
    },
    "executionInfo": {
     "elapsed": 784,
     "status": "ok",
     "timestamp": 1614423182063,
     "user": {
      "displayName": "Praveen Vemula",
      "photoUrl": "https://lh3.googleusercontent.com/-H_nlUTFpMqY/AAAAAAAAAAI/AAAAAAAAAv0/LQmGEmg0TKQ/s64/photo.jpg",
      "userId": "12794086371536443549"
     },
     "user_tz": -330
    },
    "id": "_sN-zLMPGnOn",
    "outputId": "ecf74ba4-b057-442f-bd85-0a4491d13437"
   },
   "outputs": [
    {
     "name": "stdout",
     "output_type": "stream",
     "text": [
      "0    99508\n",
      "1      492\n",
      "Name: Class, dtype: int64\n",
      "0    0.99508\n",
      "1    0.00492\n",
      "Name: Class, dtype: float64\n"
     ]
    }
   ],
   "source": [
    "print(pd.value_counts(data['Class']))\n",
    "\n",
    "print(pd.value_counts(data['Class'])/data['Class'].shape[0])"
   ]
  },
  {
   "cell_type": "markdown",
   "metadata": {
    "id": "YBJTJJT7GnOn"
   },
   "source": [
    "\n",
    "\n",
    "#### Bar plot"
   ]
  },
  {
   "cell_type": "code",
   "execution_count": 16,
   "metadata": {
    "ExecuteTime": {
     "end_time": "2021-02-27T07:48:05.271622Z",
     "start_time": "2021-02-27T07:48:04.868746Z"
    },
    "colab": {
     "base_uri": "https://localhost:8080/",
     "height": 295
    },
    "executionInfo": {
     "elapsed": 1027,
     "status": "ok",
     "timestamp": 1614423184845,
     "user": {
      "displayName": "Praveen Vemula",
      "photoUrl": "https://lh3.googleusercontent.com/-H_nlUTFpMqY/AAAAAAAAAAI/AAAAAAAAAv0/LQmGEmg0TKQ/s64/photo.jpg",
      "userId": "12794086371536443549"
     },
     "user_tz": -330
    },
    "id": "uYou_D_aGnOo",
    "outputId": "51b3134e-b62f-49e4-f281-9c0d2dfdcc4b"
   },
   "outputs": [
    {
     "data": {
      "image/png": "[encoded data removed]",
      "text/plain": [
       "<Figure size 432x288 with 1 Axes>"
      ]
     },
     "metadata": {
      "needs_background": "light",
      "tags": []
     },
     "output_type": "display_data"
    }
   ],
   "source": [
    "# Drawing a barplot\n",
    "pd.value_counts(data['Class']).plot(kind = 'bar', rot=0)\n",
    "\n",
    "# Giving titles and labels to the plot\n",
    "plt.title(\"Transaction class distribution\")\n",
    "plt.xticks(range(2), [\"Normal\", \"Fraud\"])\n",
    "plt.xlabel(\"Class\")\n",
    "plt.ylabel(\"Frequency\");"
   ]
  },
  {
   "cell_type": "markdown",
   "metadata": {
    "id": "hkPadhPsGnOo"
   },
   "source": [
    "    O = Normal\n",
    "\n",
    "    1 = Fraud"
   ]
  },
  {
   "cell_type": "markdown",
   "metadata": {
    "id": "9_thh40FGnOp"
   },
   "source": [
    "#### Extract numpy array from the DataFrame"
   ]
  },
  {
   "cell_type": "code",
   "execution_count": 17,
   "metadata": {
    "ExecuteTime": {
     "end_time": "2021-02-27T07:48:09.851540Z",
     "start_time": "2021-02-27T07:48:09.834547Z"
    },
    "executionInfo": {
     "elapsed": 759,
     "status": "ok",
     "timestamp": 1614423186875,
     "user": {
      "displayName": "Praveen Vemula",
      "photoUrl": "https://lh3.googleusercontent.com/-H_nlUTFpMqY/AAAAAAAAAAI/AAAAAAAAAv0/LQmGEmg0TKQ/s64/photo.jpg",
      "userId": "12794086371536443549"
     },
     "user_tz": -330
    },
    "id": "j37DUzsAGnOp"
   },
   "outputs": [],
   "source": [
    "data = data.values"
   ]
  },
  {
   "cell_type": "markdown",
   "metadata": {
    "id": "I2QAC13fGnOp"
   },
   "source": [
    "### Train test split\n",
    "\n",
    "    Splitting the data into train and test, such that train data has only non-fraud records and test data has both. "
   ]
  },
  {
   "cell_type": "code",
   "execution_count": 18,
   "metadata": {
    "ExecuteTime": {
     "end_time": "2021-02-27T07:48:10.293548Z",
     "start_time": "2021-02-27T07:48:10.227542Z"
    },
    "executionInfo": {
     "elapsed": 664,
     "status": "ok",
     "timestamp": 1614423187769,
     "user": {
      "displayName": "Praveen Vemula",
      "photoUrl": "https://lh3.googleusercontent.com/-H_nlUTFpMqY/AAAAAAAAAAI/AAAAAAAAAv0/LQmGEmg0TKQ/s64/photo.jpg",
      "userId": "12794086371536443549"
     },
     "user_tz": -330
    },
    "id": "SxEe7o-PGnOp"
   },
   "outputs": [],
   "source": [
    "data_nf = data[data[:,-1] == 0]\n",
    "test_f  = data[data[:,-1] == 1]\n",
    "\n",
    "train_nf, test_nf = train_test_split(data_nf, test_size=0.2, random_state=123)"
   ]
  },
  {
   "cell_type": "code",
   "execution_count": 19,
   "metadata": {
    "ExecuteTime": {
     "end_time": "2021-02-27T07:48:10.762542Z",
     "start_time": "2021-02-27T07:48:10.746546Z"
    },
    "colab": {
     "base_uri": "https://localhost:8080/"
    },
    "executionInfo": {
     "elapsed": 802,
     "status": "ok",
     "timestamp": 1614423188102,
     "user": {
      "displayName": "Praveen Vemula",
      "photoUrl": "https://lh3.googleusercontent.com/-H_nlUTFpMqY/AAAAAAAAAAI/AAAAAAAAAv0/LQmGEmg0TKQ/s64/photo.jpg",
      "userId": "12794086371536443549"
     },
     "user_tz": -330
    },
    "id": "6gm7lgFyGnOq",
    "outputId": "36a0b4ec-32dd-40e8-d52b-7bc3d20051b7"
   },
   "outputs": [
    {
     "name": "stdout",
     "output_type": "stream",
     "text": [
      "(100000, 30)\n",
      "(79606, 30)\n",
      "(19902, 30)\n",
      "(492, 30)\n"
     ]
    }
   ],
   "source": [
    "print(data.shape)\n",
    "print(train_nf.shape)\n",
    "print(test_nf.shape)\n",
    "print(test_f.shape)"
   ]
  },
  {
   "cell_type": "markdown",
   "metadata": {
    "id": "kmAACMFGGnOq"
   },
   "source": [
    "#### Look at the distribution w.r.t target attribute"
   ]
  },
  {
   "cell_type": "code",
   "execution_count": 20,
   "metadata": {
    "ExecuteTime": {
     "end_time": "2021-02-27T07:48:11.683229Z",
     "start_time": "2021-02-27T07:48:11.658032Z"
    },
    "colab": {
     "base_uri": "https://localhost:8080/"
    },
    "executionInfo": {
     "elapsed": 794,
     "status": "ok",
     "timestamp": 1614423190094,
     "user": {
      "displayName": "Praveen Vemula",
      "photoUrl": "https://lh3.googleusercontent.com/-H_nlUTFpMqY/AAAAAAAAAAI/AAAAAAAAAv0/LQmGEmg0TKQ/s64/photo.jpg",
      "userId": "12794086371536443549"
     },
     "user_tz": -330
    },
    "id": "LaWLc3kEGnOq",
    "outputId": "4203937c-ab7d-4c45-9655-ce0b4bdad905"
   },
   "outputs": [
    {
     "name": "stdout",
     "output_type": "stream",
     "text": [
      "(array([0., 1.]), array([99508,   492]))\n",
      "(array([0.]), array([79606]))\n",
      "(array([0.]), array([19902]))\n",
      "(array([1.]), array([492]))\n"
     ]
    }
   ],
   "source": [
    "print(np.unique(data[:,-1], return_counts=True))\n",
    "print(np.unique(train_nf[:,-1], return_counts=True))\n",
    "print(np.unique(test_nf[:,-1], return_counts=True))\n",
    "print(np.unique(test_f[:,-1], return_counts=True))"
   ]
  },
  {
   "cell_type": "markdown",
   "metadata": {
    "id": "5Nd4ZcJMGnOr"
   },
   "source": [
    "#### Only extract independent features"
   ]
  },
  {
   "cell_type": "code",
   "execution_count": 21,
   "metadata": {
    "ExecuteTime": {
     "end_time": "2021-02-27T07:48:14.782866Z",
     "start_time": "2021-02-27T07:48:14.769865Z"
    },
    "executionInfo": {
     "elapsed": 803,
     "status": "ok",
     "timestamp": 1614423193055,
     "user": {
      "displayName": "Praveen Vemula",
      "photoUrl": "https://lh3.googleusercontent.com/-H_nlUTFpMqY/AAAAAAAAAAI/AAAAAAAAAv0/LQmGEmg0TKQ/s64/photo.jpg",
      "userId": "12794086371536443549"
     },
     "user_tz": -330
    },
    "id": "ddWmcJ1WGnOr"
   },
   "outputs": [],
   "source": [
    "X_train_nf = train_nf[:,:-1]\n",
    "\n",
    "X_test_nf = test_nf[:,:-1]\n",
    "\n",
    "X_test_f = test_f[:,:-1]"
   ]
  },
  {
   "cell_type": "markdown",
   "metadata": {
    "id": "qqnIDIxsGnOr"
   },
   "source": [
    "### Build Autoencoder"
   ]
  },
  {
   "cell_type": "code",
   "execution_count": 22,
   "metadata": {
    "ExecuteTime": {
     "end_time": "2021-02-27T07:48:15.638360Z",
     "start_time": "2021-02-27T07:48:15.620366Z"
    },
    "executionInfo": {
     "elapsed": 771,
     "status": "ok",
     "timestamp": 1614423198673,
     "user": {
      "displayName": "Praveen Vemula",
      "photoUrl": "https://lh3.googleusercontent.com/-H_nlUTFpMqY/AAAAAAAAAAI/AAAAAAAAAv0/LQmGEmg0TKQ/s64/photo.jpg",
      "userId": "12794086371536443549"
     },
     "user_tz": -330
    },
    "id": "DS_pt7LMGnOr"
   },
   "outputs": [],
   "source": [
    "input_dim = X_train_nf.shape[1]\n",
    "encoding_dim = 150"
   ]
  },
  {
   "cell_type": "code",
   "execution_count": 24,
   "metadata": {
    "ExecuteTime": {
     "end_time": "2021-02-27T07:48:16.078353Z",
     "start_time": "2021-02-27T07:48:15.929369Z"
    },
    "executionInfo": {
     "elapsed": 800,
     "status": "ok",
     "timestamp": 1614423285130,
     "user": {
      "displayName": "Praveen Vemula",
      "photoUrl": "https://lh3.googleusercontent.com/-H_nlUTFpMqY/AAAAAAAAAAI/AAAAAAAAAv0/LQmGEmg0TKQ/s64/photo.jpg",
      "userId": "12794086371536443549"
     },
     "user_tz": -330
    },
    "id": "24fBInJuGnOs"
   },
   "outputs": [],
   "source": [
    "# Input placeholder\n",
    "input_layer = Input(shape=(input_dim,))\n",
    "\n",
    "input_dropout = Dropout(0.2)(input_layer)\n",
    " \n",
    "# \"encoded\" is the encoded representation of the input\n",
    "encoded_layer = Dense(encoding_dim, activation='relu')(input_dropout)\n",
    "\n",
    "# \"decoded\" is the lossy reconstruction of the input\n",
    "decoded_layer = Dense(input_dim, activation='linear')(encoded_layer)"
   ]
  },
  {
   "cell_type": "code",
   "execution_count": 25,
   "metadata": {
    "executionInfo": {
     "elapsed": 733,
     "status": "ok",
     "timestamp": 1614423335248,
     "user": {
      "displayName": "Praveen Vemula",
      "photoUrl": "https://lh3.googleusercontent.com/-H_nlUTFpMqY/AAAAAAAAAAI/AAAAAAAAAv0/LQmGEmg0TKQ/s64/photo.jpg",
      "userId": "12794086371536443549"
     },
     "user_tz": -330
    },
    "id": "qrgZEFY8H3AI"
   },
   "outputs": [],
   "source": [
    "from tensorflow.keras.models import Model"
   ]
  },
  {
   "cell_type": "code",
   "execution_count": 27,
   "metadata": {
    "executionInfo": {
     "elapsed": 759,
     "status": "ok",
     "timestamp": 1614423364312,
     "user": {
      "displayName": "Praveen Vemula",
      "photoUrl": "https://lh3.googleusercontent.com/-H_nlUTFpMqY/AAAAAAAAAAI/AAAAAAAAAv0/LQmGEmg0TKQ/s64/photo.jpg",
      "userId": "12794086371536443549"
     },
     "user_tz": -330
    },
    "id": "oaaFiyPWIR46"
   },
   "outputs": [],
   "source": [
    "autoencoder = Model(input_layer, decoded_layer)"
   ]
  },
  {
   "cell_type": "code",
   "execution_count": 28,
   "metadata": {
    "executionInfo": {
     "elapsed": 755,
     "status": "ok",
     "timestamp": 1614423412758,
     "user": {
      "displayName": "Praveen Vemula",
      "photoUrl": "https://lh3.googleusercontent.com/-H_nlUTFpMqY/AAAAAAAAAAI/AAAAAAAAAv0/LQmGEmg0TKQ/s64/photo.jpg",
      "userId": "12794086371536443549"
     },
     "user_tz": -330
    },
    "id": "jM44qvZyIV5L"
   },
   "outputs": [],
   "source": [
    "autoencoder.compile(optimizer='adam', \n",
    "                    loss = 'mean_squared_error')"
   ]
  },
  {
   "cell_type": "code",
   "execution_count": 29,
   "metadata": {
    "colab": {
     "base_uri": "https://localhost:8080/"
    },
    "executionInfo": {
     "elapsed": 19756,
     "status": "ok",
     "timestamp": 1614423509304,
     "user": {
      "displayName": "Praveen Vemula",
      "photoUrl": "https://lh3.googleusercontent.com/-H_nlUTFpMqY/AAAAAAAAAAI/AAAAAAAAAv0/LQmGEmg0TKQ/s64/photo.jpg",
      "userId": "12794086371536443549"
     },
     "user_tz": -330
    },
    "id": "G_PV2aJMIkzr",
    "outputId": "fabd2de9-e8ff-4554-c33e-2384222e9178"
   },
   "outputs": [
    {
     "name": "stdout",
     "output_type": "stream",
     "text": [
      "Epoch 1/20\n",
      "622/622 [==============================] - 1s 1ms/step - loss: 0.5033\n",
      "Epoch 2/20\n",
      "622/622 [==============================] - 1s 1ms/step - loss: 0.1723\n",
      "Epoch 3/20\n",
      "622/622 [==============================] - 1s 1ms/step - loss: 0.1607\n",
      "Epoch 4/20\n",
      "622/622 [==============================] - 1s 1ms/step - loss: 0.1485\n",
      "Epoch 5/20\n",
      "622/622 [==============================] - 1s 1ms/step - loss: 0.1453\n",
      "Epoch 6/20\n",
      "622/622 [==============================] - 1s 1ms/step - loss: 0.1315\n",
      "Epoch 7/20\n",
      "622/622 [==============================] - 1s 1ms/step - loss: 0.1319\n",
      "Epoch 8/20\n",
      "622/622 [==============================] - 1s 1ms/step - loss: 0.1262\n",
      "Epoch 9/20\n",
      "622/622 [==============================] - 1s 1ms/step - loss: 0.1198\n",
      "Epoch 10/20\n",
      "622/622 [==============================] - 1s 1ms/step - loss: 0.1153\n",
      "Epoch 11/20\n",
      "622/622 [==============================] - 1s 2ms/step - loss: 0.1199\n",
      "Epoch 12/20\n",
      "622/622 [==============================] - 1s 1ms/step - loss: 0.1144\n",
      "Epoch 13/20\n",
      "622/622 [==============================] - 1s 1ms/step - loss: 0.1184\n",
      "Epoch 14/20\n",
      "622/622 [==============================] - 1s 1ms/step - loss: 0.1100\n",
      "Epoch 15/20\n",
      "622/622 [==============================] - 1s 1ms/step - loss: 0.1140\n",
      "Epoch 16/20\n",
      "622/622 [==============================] - 1s 1ms/step - loss: 0.1129\n",
      "Epoch 17/20\n",
      "622/622 [==============================] - 1s 1ms/step - loss: 0.1101\n",
      "Epoch 18/20\n",
      "622/622 [==============================] - 1s 1ms/step - loss: 0.1071\n",
      "Epoch 19/20\n",
      "622/622 [==============================] - 1s 1ms/step - loss: 0.1077\n",
      "Epoch 20/20\n",
      "622/622 [==============================] - 1s 2ms/step - loss: 0.1067\n"
     ]
    },
    {
     "data": {
      "text/plain": [
       "<tensorflow.python.keras.callbacks.History at 0x7fb290df9450>"
      ]
     },
     "execution_count": 29,
     "metadata": {
      "tags": []
     },
     "output_type": "execute_result"
    }
   ],
   "source": [
    "autoencoder.fit(X_train_nf, X_train_nf, epochs=20, batch_size=128)"
   ]
  },
  {
   "cell_type": "code",
   "execution_count": 30,
   "metadata": {
    "colab": {
     "base_uri": "https://localhost:8080/"
    },
    "executionInfo": {
     "elapsed": 3016,
     "status": "ok",
     "timestamp": 1614423553480,
     "user": {
      "displayName": "Praveen Vemula",
      "photoUrl": "https://lh3.googleusercontent.com/-H_nlUTFpMqY/AAAAAAAAAAI/AAAAAAAAAv0/LQmGEmg0TKQ/s64/photo.jpg",
      "userId": "12794086371536443549"
     },
     "user_tz": -330
    },
    "id": "xwmF6GYgI3vU",
    "outputId": "9cfb13f5-f97e-4c40-bb76-53ef46109a7a"
   },
   "outputs": [
    {
     "name": "stdout",
     "output_type": "stream",
     "text": [
      "2488/2488 [==============================] - 2s 831us/step - loss: 0.0405\n"
     ]
    },
    {
     "data": {
      "text/plain": [
       "0.040469344705343246"
      ]
     },
     "execution_count": 30,
     "metadata": {
      "tags": []
     },
     "output_type": "execute_result"
    }
   ],
   "source": [
    "autoencoder.evaluate(X_train_nf, X_train_nf)"
   ]
  },
  {
   "cell_type": "code",
   "execution_count": 31,
   "metadata": {
    "colab": {
     "base_uri": "https://localhost:8080/"
    },
    "executionInfo": {
     "elapsed": 1380,
     "status": "ok",
     "timestamp": 1614423579160,
     "user": {
      "displayName": "Praveen Vemula",
      "photoUrl": "https://lh3.googleusercontent.com/-H_nlUTFpMqY/AAAAAAAAAAI/AAAAAAAAAv0/LQmGEmg0TKQ/s64/photo.jpg",
      "userId": "12794086371536443549"
     },
     "user_tz": -330
    },
    "id": "Sz8p9u8PJGnK",
    "outputId": "0aeac0ff-2813-4b92-8a50-26aa34a50bc0"
   },
   "outputs": [
    {
     "name": "stdout",
     "output_type": "stream",
     "text": [
      "622/622 [==============================] - 1s 845us/step - loss: 0.0407\n"
     ]
    },
    {
     "data": {
      "text/plain": [
       "0.04071503132581711"
      ]
     },
     "execution_count": 31,
     "metadata": {
      "tags": []
     },
     "output_type": "execute_result"
    }
   ],
   "source": [
    "autoencoder.evaluate(X_test_nf, X_test_nf)"
   ]
  },
  {
   "cell_type": "code",
   "execution_count": 32,
   "metadata": {
    "colab": {
     "base_uri": "https://localhost:8080/"
    },
    "executionInfo": {
     "elapsed": 754,
     "status": "ok",
     "timestamp": 1614423620307,
     "user": {
      "displayName": "Praveen Vemula",
      "photoUrl": "https://lh3.googleusercontent.com/-H_nlUTFpMqY/AAAAAAAAAAI/AAAAAAAAAv0/LQmGEmg0TKQ/s64/photo.jpg",
      "userId": "12794086371536443549"
     },
     "user_tz": -330
    },
    "id": "Bh-Wdt7wJNRz",
    "outputId": "a70e18e6-44da-47f6-f6ac-6f2255c76e29"
   },
   "outputs": [
    {
     "name": "stdout",
     "output_type": "stream",
     "text": [
      "16/16 [==============================] - 0s 1ms/step - loss: 2.8015\n"
     ]
    },
    {
     "data": {
      "text/plain": [
       "2.8015100955963135"
      ]
     },
     "execution_count": 32,
     "metadata": {
      "tags": []
     },
     "output_type": "execute_result"
    }
   ],
   "source": [
    "autoencoder.evaluate(X_test_f, X_test_f)"
   ]
  },
  {
   "cell_type": "code",
   "execution_count": 35,
   "metadata": {
    "executionInfo": {
     "elapsed": 2540,
     "status": "ok",
     "timestamp": 1614423980295,
     "user": {
      "displayName": "Praveen Vemula",
      "photoUrl": "https://lh3.googleusercontent.com/-H_nlUTFpMqY/AAAAAAAAAAI/AAAAAAAAAv0/LQmGEmg0TKQ/s64/photo.jpg",
      "userId": "12794086371536443549"
     },
     "user_tz": -330
    },
    "id": "Ou8oP7HWKd0q"
   },
   "outputs": [],
   "source": [
    "pred_train_nf = autoencoder.predict(X_train_nf)\n",
    "pred_test_nf = autoencoder.predict(X_test_nf)"
   ]
  },
  {
   "cell_type": "code",
   "execution_count": 36,
   "metadata": {
    "executionInfo": {
     "elapsed": 778,
     "status": "ok",
     "timestamp": 1614424188284,
     "user": {
      "displayName": "Praveen Vemula",
      "photoUrl": "https://lh3.googleusercontent.com/-H_nlUTFpMqY/AAAAAAAAAAI/AAAAAAAAAv0/LQmGEmg0TKQ/s64/photo.jpg",
      "userId": "12794086371536443549"
     },
     "user_tz": -330
    },
    "id": "lUIDNpw9JXej"
   },
   "outputs": [],
   "source": [
    "# mean squared error for each  record\n",
    "\n",
    "def mse_eachrecord(act, pred):\n",
    "  error = act-pred\n",
    "  sq_error = np.square(error)\n",
    "  mean_sq_error = np.mean(sq_error, axis=1)\n",
    "  return mean_sq_error"
   ]
  },
  {
   "cell_type": "code",
   "execution_count": 40,
   "metadata": {
    "executionInfo": {
     "elapsed": 799,
     "status": "ok",
     "timestamp": 1614424291142,
     "user": {
      "displayName": "Praveen Vemula",
      "photoUrl": "https://lh3.googleusercontent.com/-H_nlUTFpMqY/AAAAAAAAAAI/AAAAAAAAAv0/LQmGEmg0TKQ/s64/photo.jpg",
      "userId": "12794086371536443549"
     },
     "user_tz": -330
    },
    "id": "HjjShvDXKn1s"
   },
   "outputs": [],
   "source": [
    "# mean squared error for each non fradulent train record\n",
    "\n",
    "mse_train_nf = mse_eachrecord(X_train_nf, pred_train_nf)\n",
    "\n",
    "# mean squared error for each non fradulent test record\n",
    "\n",
    "mse_test_nf = mse_eachrecord(X_test_nf, pred_test_nf)"
   ]
  },
  {
   "cell_type": "code",
   "execution_count": 44,
   "metadata": {
    "executionInfo": {
     "elapsed": 785,
     "status": "ok",
     "timestamp": 1614424410174,
     "user": {
      "displayName": "Praveen Vemula",
      "photoUrl": "https://lh3.googleusercontent.com/-H_nlUTFpMqY/AAAAAAAAAAI/AAAAAAAAAv0/LQmGEmg0TKQ/s64/photo.jpg",
      "userId": "12794086371536443549"
     },
     "user_tz": -330
    },
    "id": "RDMRr5dlLuyE"
   },
   "outputs": [],
   "source": [
    "pred_test_f = autoencoder.predict(X_test_f)\n",
    "\n",
    "# mean squared error for each fradulent test record\n",
    "\n",
    "mse_test_f = mse_eachrecord(X_test_f, pred_test_f)"
   ]
  },
  {
   "cell_type": "code",
   "execution_count": 46,
   "metadata": {
    "colab": {
     "base_uri": "https://localhost:8080/",
     "height": 282
    },
    "executionInfo": {
     "elapsed": 919,
     "status": "ok",
     "timestamp": 1614424432863,
     "user": {
      "displayName": "Praveen Vemula",
      "photoUrl": "https://lh3.googleusercontent.com/-H_nlUTFpMqY/AAAAAAAAAAI/AAAAAAAAAv0/LQmGEmg0TKQ/s64/photo.jpg",
      "userId": "12794086371536443549"
     },
     "user_tz": -330
    },
    "id": "I9SiyiSaL9OV",
    "outputId": "8817e39f-192e-45f9-e4e3-b62f64fd1f8c"
   },
   "outputs": [
    {
     "data": {
      "text/plain": [
       "<matplotlib.axes._subplots.AxesSubplot at 0x7fb287491850>"
      ]
     },
     "execution_count": 46,
     "metadata": {
      "tags": []
     },
     "output_type": "execute_result"
    },
    {
     "data": {
      "image/png": "[encoded data removed]",
      "text/plain": [
       "<Figure size 432x288 with 1 Axes>"
      ]
     },
     "metadata": {
      "needs_background": "light",
      "tags": []
     },
     "output_type": "display_data"
    }
   ],
   "source": [
    "pd.Series(mse_train_nf).plot(kind='box')"
   ]
  },
  {
   "cell_type": "code",
   "execution_count": 47,
   "metadata": {
    "colab": {
     "base_uri": "https://localhost:8080/",
     "height": 282
    },
    "executionInfo": {
     "elapsed": 865,
     "status": "ok",
     "timestamp": 1614424455744,
     "user": {
      "displayName": "Praveen Vemula",
      "photoUrl": "https://lh3.googleusercontent.com/-H_nlUTFpMqY/AAAAAAAAAAI/AAAAAAAAAv0/LQmGEmg0TKQ/s64/photo.jpg",
      "userId": "12794086371536443549"
     },
     "user_tz": -330
    },
    "id": "fKRW6LEaMZEU",
    "outputId": "a7ac3cb1-83d4-42a1-e29a-d434c97f44ba"
   },
   "outputs": [
    {
     "data": {
      "text/plain": [
       "<matplotlib.axes._subplots.AxesSubplot at 0x7fb287486a10>"
      ]
     },
     "execution_count": 47,
     "metadata": {
      "tags": []
     },
     "output_type": "execute_result"
    },
    {
     "data": {
      "image/png": "[encoded data removed]",
      "text/plain": [
       "<Figure size 432x288 with 1 Axes>"
      ]
     },
     "metadata": {
      "needs_background": "light",
      "tags": []
     },
     "output_type": "display_data"
    }
   ],
   "source": [
    "pd.Series(mse_test_nf).plot(kind='box')"
   ]
  },
  {
   "cell_type": "code",
   "execution_count": 48,
   "metadata": {
    "colab": {
     "base_uri": "https://localhost:8080/",
     "height": 282
    },
    "executionInfo": {
     "elapsed": 842,
     "status": "ok",
     "timestamp": 1614424468671,
     "user": {
      "displayName": "Praveen Vemula",
      "photoUrl": "https://lh3.googleusercontent.com/-H_nlUTFpMqY/AAAAAAAAAAI/AAAAAAAAAv0/LQmGEmg0TKQ/s64/photo.jpg",
      "userId": "12794086371536443549"
     },
     "user_tz": -330
    },
    "id": "53YrJOkMMle7",
    "outputId": "88610f42-2781-4cf3-f8c9-efd6f0c573f5"
   },
   "outputs": [
    {
     "data": {
      "text/plain": [
       "<matplotlib.axes._subplots.AxesSubplot at 0x7fb285bf8150>"
      ]
     },
     "execution_count": 48,
     "metadata": {
      "tags": []
     },
     "output_type": "execute_result"
    },
    {
     "data": {
      "image/png": "[encoded data removed]",
      "text/plain": [
       "<Figure size 432x288 with 1 Axes>"
      ]
     },
     "metadata": {
      "needs_background": "light",
      "tags": []
     },
     "output_type": "display_data"
    }
   ],
   "source": [
    "pd.Series(mse_test_f).plot(kind='box')"
   ]
  },
  {
   "cell_type": "code",
   "execution_count": 50,
   "metadata": {
    "colab": {
     "base_uri": "https://localhost:8080/"
    },
    "executionInfo": {
     "elapsed": 808,
     "status": "ok",
     "timestamp": 1614424605434,
     "user": {
      "displayName": "Praveen Vemula",
      "photoUrl": "https://lh3.googleusercontent.com/-H_nlUTFpMqY/AAAAAAAAAAI/AAAAAAAAAv0/LQmGEmg0TKQ/s64/photo.jpg",
      "userId": "12794086371536443549"
     },
     "user_tz": -330
    },
    "id": "F9q2WxMBMu-K",
    "outputId": "f340d478-6220-42aa-aa37-13528439604b"
   },
   "outputs": [
    {
     "name": "stdout",
     "output_type": "stream",
     "text": [
      "Train No-Fraud Mean Error 0.040469371491794144\n",
      "Test No-Fraud Mean Error 0.04071502368053668\n",
      "Test Fraud Mean Error 2.8015102483094423\n"
     ]
    }
   ],
   "source": [
    "print('Train No-Fraud Mean Error', np.mean(mse_train_nf))\n",
    "print('Test No-Fraud Mean Error', np.mean(mse_test_nf))\n",
    "print('Test Fraud Mean Error', np.mean(mse_test_f))"
   ]
  },
  {
   "cell_type": "code",
   "execution_count": 81,
   "metadata": {
    "colab": {
     "base_uri": "https://localhost:8080/"
    },
    "executionInfo": {
     "elapsed": 755,
     "status": "ok",
     "timestamp": 1614425626657,
     "user": {
      "displayName": "Praveen Vemula",
      "photoUrl": "https://lh3.googleusercontent.com/-H_nlUTFpMqY/AAAAAAAAAAI/AAAAAAAAAv0/LQmGEmg0TKQ/s64/photo.jpg",
      "userId": "12794086371536443549"
     },
     "user_tz": -330
    },
    "id": "5vVuadUHQRkd",
    "outputId": "f041ded8-1a77-416d-cc79-bb08fd30922a"
   },
   "outputs": [
    {
     "data": {
      "text/plain": [
       "0.4259887945704376"
      ]
     },
     "execution_count": 81,
     "metadata": {
      "tags": []
     },
     "output_type": "execute_result"
    }
   ],
   "source": [
    "np.percentile(mse_train_nf, 99)"
   ]
  },
  {
   "cell_type": "code",
   "execution_count": 82,
   "metadata": {
    "executionInfo": {
     "elapsed": 751,
     "status": "ok",
     "timestamp": 1614425632879,
     "user": {
      "displayName": "Praveen Vemula",
      "photoUrl": "https://lh3.googleusercontent.com/-H_nlUTFpMqY/AAAAAAAAAAI/AAAAAAAAAv0/LQmGEmg0TKQ/s64/photo.jpg",
      "userId": "12794086371536443549"
     },
     "user_tz": -330
    },
    "id": "DF29uQRIO-8V"
   },
   "outputs": [],
   "source": [
    "out = (pd.Series(mse_test_f) >  0.42)"
   ]
  },
  {
   "cell_type": "code",
   "execution_count": 83,
   "metadata": {
    "executionInfo": {
     "elapsed": 1115,
     "status": "ok",
     "timestamp": 1614425634076,
     "user": {
      "displayName": "Praveen Vemula",
      "photoUrl": "https://lh3.googleusercontent.com/-H_nlUTFpMqY/AAAAAAAAAAI/AAAAAAAAAv0/LQmGEmg0TKQ/s64/photo.jpg",
      "userId": "12794086371536443549"
     },
     "user_tz": -330
    },
    "id": "22Thh1SbPw80"
   },
   "outputs": [],
   "source": [
    "pred_f = out.astype('int')"
   ]
  },
  {
   "cell_type": "code",
   "execution_count": 84,
   "metadata": {
    "colab": {
     "base_uri": "https://localhost:8080/"
    },
    "executionInfo": {
     "elapsed": 861,
     "status": "ok",
     "timestamp": 1614425634436,
     "user": {
      "displayName": "Praveen Vemula",
      "photoUrl": "https://lh3.googleusercontent.com/-H_nlUTFpMqY/AAAAAAAAAAI/AAAAAAAAAv0/LQmGEmg0TKQ/s64/photo.jpg",
      "userId": "12794086371536443549"
     },
     "user_tz": -330
    },
    "id": "-YfARCPNP-rP",
    "outputId": "fe0ed7aa-816b-4cd4-c1af-b73bcbb0cfdd"
   },
   "outputs": [
    {
     "data": {
      "text/plain": [
       "384"
      ]
     },
     "execution_count": 84,
     "metadata": {
      "tags": []
     },
     "output_type": "execute_result"
    }
   ],
   "source": [
    "sum(pred_f)"
   ]
  },
  {
   "cell_type": "code",
   "execution_count": 75,
   "metadata": {
    "colab": {
     "base_uri": "https://localhost:8080/"
    },
    "executionInfo": {
     "elapsed": 808,
     "status": "ok",
     "timestamp": 1614425384952,
     "user": {
      "displayName": "Praveen Vemula",
      "photoUrl": "https://lh3.googleusercontent.com/-H_nlUTFpMqY/AAAAAAAAAAI/AAAAAAAAAv0/LQmGEmg0TKQ/s64/photo.jpg",
      "userId": "12794086371536443549"
     },
     "user_tz": -330
    },
    "id": "2jNO9XxdQBnU",
    "outputId": "c290fb1a-906e-4cc7-b48a-64282827be05"
   },
   "outputs": [
    {
     "data": {
      "text/plain": [
       "(492, 29)"
      ]
     },
     "execution_count": 75,
     "metadata": {
      "tags": []
     },
     "output_type": "execute_result"
    }
   ],
   "source": [
    "pred_test_f.shape"
   ]
  },
  {
   "cell_type": "code",
   "execution_count": 55,
   "metadata": {
    "executionInfo": {
     "elapsed": 777,
     "status": "ok",
     "timestamp": 1614424960030,
     "user": {
      "displayName": "Praveen Vemula",
      "photoUrl": "https://lh3.googleusercontent.com/-H_nlUTFpMqY/AAAAAAAAAAI/AAAAAAAAAv0/LQmGEmg0TKQ/s64/photo.jpg",
      "userId": "12794086371536443549"
     },
     "user_tz": -330
    },
    "id": "Ycp00jQlNKYC"
   },
   "outputs": [],
   "source": [
    "def obtain_target(pred):\n",
    "  if(pred > np.mean(mse_train_nf)):\n",
    "      return 1\n",
    "  else:\n",
    "      return 0"
   ]
  },
  {
   "cell_type": "code",
   "execution_count": 67,
   "metadata": {
    "colab": {
     "base_uri": "https://localhost:8080/",
     "height": 314
    },
    "executionInfo": {
     "elapsed": 810,
     "status": "error",
     "timestamp": 1614425208974,
     "user": {
      "displayName": "Praveen Vemula",
      "photoUrl": "https://lh3.googleusercontent.com/-H_nlUTFpMqY/AAAAAAAAAAI/AAAAAAAAAv0/LQmGEmg0TKQ/s64/photo.jpg",
      "userId": "12794086371536443549"
     },
     "user_tz": -330
    },
    "id": "pw_xr_JrMvAq",
    "outputId": "f7580709-7bd0-4a41-a12e-aa35b54bafb8"
   },
   "outputs": [
    {
     "ename": "ValueError",
     "evalue": "ignored",
     "output_type": "error",
     "traceback": [
      "\u001b[0;31m---------------------------------------------------------------------------\u001b[0m",
      "\u001b[0;31mValueError\u001b[0m                                Traceback (most recent call last)",
      "\u001b[0;32m<ipython-input-67-1dcb3ad22e51>\u001b[0m in \u001b[0;36m<module>\u001b[0;34m()\u001b[0m\n\u001b[0;32m----> 1\u001b[0;31m \u001b[0mobtain_target\u001b[0m\u001b[0;34m(\u001b[0m\u001b[0mpd\u001b[0m\u001b[0;34m.\u001b[0m\u001b[0mSeries\u001b[0m\u001b[0;34m(\u001b[0m\u001b[0mmse_test_f\u001b[0m\u001b[0;34m)\u001b[0m\u001b[0;34m)\u001b[0m\u001b[0;34m\u001b[0m\u001b[0;34m\u001b[0m\u001b[0m\n\u001b[0m",
      "\u001b[0;32m<ipython-input-55-423d79341fcd>\u001b[0m in \u001b[0;36mobtain_target\u001b[0;34m(mse_test_f)\u001b[0m\n\u001b[1;32m      1\u001b[0m \u001b[0;32mdef\u001b[0m \u001b[0mobtain_target\u001b[0m\u001b[0;34m(\u001b[0m\u001b[0mmse_test_f\u001b[0m\u001b[0;34m)\u001b[0m\u001b[0;34m:\u001b[0m\u001b[0;34m\u001b[0m\u001b[0;34m\u001b[0m\u001b[0m\n\u001b[0;32m----> 2\u001b[0;31m   \u001b[0;32mif\u001b[0m\u001b[0;34m(\u001b[0m\u001b[0mmse_test_f\u001b[0m \u001b[0;34m>\u001b[0m \u001b[0mnp\u001b[0m\u001b[0;34m.\u001b[0m\u001b[0mmean\u001b[0m\u001b[0;34m(\u001b[0m\u001b[0mmse_train_nf\u001b[0m\u001b[0;34m)\u001b[0m\u001b[0;34m)\u001b[0m\u001b[0;34m:\u001b[0m\u001b[0;34m\u001b[0m\u001b[0;34m\u001b[0m\u001b[0m\n\u001b[0m\u001b[1;32m      3\u001b[0m       \u001b[0;32mreturn\u001b[0m \u001b[0;36m1\u001b[0m\u001b[0;34m\u001b[0m\u001b[0;34m\u001b[0m\u001b[0m\n\u001b[1;32m      4\u001b[0m   \u001b[0;32melse\u001b[0m\u001b[0;34m:\u001b[0m\u001b[0;34m\u001b[0m\u001b[0;34m\u001b[0m\u001b[0m\n\u001b[1;32m      5\u001b[0m       \u001b[0;32mreturn\u001b[0m \u001b[0;36m0\u001b[0m\u001b[0;34m\u001b[0m\u001b[0;34m\u001b[0m\u001b[0m\n",
      "\u001b[0;32m/usr/local/lib/python3.7/dist-packages/pandas/core/generic.py\u001b[0m in \u001b[0;36m__nonzero__\u001b[0;34m(self)\u001b[0m\n\u001b[1;32m   1328\u001b[0m     \u001b[0;32mdef\u001b[0m \u001b[0m__nonzero__\u001b[0m\u001b[0;34m(\u001b[0m\u001b[0mself\u001b[0m\u001b[0;34m)\u001b[0m\u001b[0;34m:\u001b[0m\u001b[0;34m\u001b[0m\u001b[0;34m\u001b[0m\u001b[0m\n\u001b[1;32m   1329\u001b[0m         raise ValueError(\n\u001b[0;32m-> 1330\u001b[0;31m             \u001b[0;34mf\"The truth value of a {type(self).__name__} is ambiguous. \"\u001b[0m\u001b[0;34m\u001b[0m\u001b[0;34m\u001b[0m\u001b[0m\n\u001b[0m\u001b[1;32m   1331\u001b[0m             \u001b[0;34m\"Use a.empty, a.bool(), a.item(), a.any() or a.all().\"\u001b[0m\u001b[0;34m\u001b[0m\u001b[0;34m\u001b[0m\u001b[0m\n\u001b[1;32m   1332\u001b[0m         )\n",
      "\u001b[0;31mValueError\u001b[0m: The truth value of a Series is ambiguous. Use a.empty, a.bool(), a.item(), a.any() or a.all()."
     ]
    }
   ],
   "source": [
    "obtain_target(pd.Series(mse_test_f))"
   ]
  }
 ],
 "metadata": {
  "colab": {
   "collapsed_sections": [],
   "name": "AutoEncoder_Application_Fraud Detection.ipynb",
   "provenance": []
  },
  "kernelspec": {
   "display_name": "Python 3",
   "language": "python",
   "name": "python3"
  },
  "language_info": {
   "codemirror_mode": {
    "name": "ipython",
    "version": 3
   },
   "file_extension": ".py",
   "mimetype": "text/x-python",
   "name": "python",
   "nbconvert_exporter": "python",
   "pygments_lexer": "ipython3",
   "version": "3.6.5"
  },
  "varInspector": {
   "cols": {
    "lenName": 16,
    "lenType": 16,
    "lenVar": 40
   },
   "kernels_config": {
    "python": {
     "delete_cmd_postfix": "",
     "delete_cmd_prefix": "del ",
     "library": "var_list.py",
     "varRefreshCmd": "print(var_dic_list())"
    },
    "r": {
     "delete_cmd_postfix": ") ",
     "delete_cmd_prefix": "rm(",
     "library": "var_list.r",
     "varRefreshCmd": "cat(var_dic_list()) "
    }
   },
   "types_to_exclude": [
    "module",
    "function",
    "builtin_function_or_method",
    "instance",
    "_Feature"
   ],
   "window_display": false
  }
 },
 "nbformat": 4,
 "nbformat_minor": 1
}
