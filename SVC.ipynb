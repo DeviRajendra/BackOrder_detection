{
 "cells": [
  {
   "cell_type": "markdown",
   "metadata": {
    "colab_type": "text",
    "id": "rGOPJwMdArdl"
   },
   "source": [
    "##  Classification : SVC"
   ]
  },
  {
   "cell_type": "markdown",
   "metadata": {
    "colab_type": "text",
    "id": "BHrfLgUuArdo"
   },
   "source": [
    "### Business Objective\n",
    "\n",
    "    To identify products at risk of backorder before the event occurs so the business has time to react. "
   ]
  },
  {
   "cell_type": "markdown",
   "metadata": {
    "colab_type": "text",
    "id": "0n8IZrckArdq"
   },
   "source": [
    "#### Data\n",
    "\n",
    "Data file contains the historical data for the 8 weeks prior to the week we are trying to predict. The data was taken as weekly snapshots at the start of each week. Columns are defined as follows:\n",
    "\n",
    "    sku - Random ID for the product\n",
    "\n",
    "    national_inv - Current inventory level for the part\n",
    "\n",
    "    lead_time - Transit time for product (if available)\n",
    "\n",
    "    in_transit_qty - Amount of product in transit from source\n",
    "\n",
    "    forecast_3_month - Forecast sales for the next 3 months\n",
    "\n",
    "    forecast_6_month - Forecast sales for the next 6 months\n",
    "\n",
    "    forecast_9_month - Forecast sales for the next 9 months\n",
    "\n",
    "    sales_1_month - Sales quantity for the prior 1 month time period\n",
    "\n",
    "    sales_3_month - Sales quantity for the prior 3 month time period\n",
    "\n",
    "    sales_6_month - Sales quantity for the prior 6 month time period\n",
    "\n",
    "    sales_9_month - Sales quantity for the prior 9 month time period\n",
    "\n",
    "    min_bank - Minimum recommend amount to stock\n",
    "\n",
    "    potential_issue - Source issue for part identified\n",
    "\n",
    "    pieces_past_due - Parts overdue from source\n",
    "\n",
    "    perf_6_month_avg - Source performance for prior 6 month period\n",
    "\n",
    "    perf_12_month_avg - Source performance for prior 12 month period\n",
    "\n",
    "    local_bo_qty - Amount of stock orders overdue\n",
    "\n",
    "    deck_risk - Part risk flag\n",
    "\n",
    "    oe_constraint - Part risk flag\n",
    "\n",
    "    ppap_risk - Part risk flag\n",
    "\n",
    "    stop_auto_buy - Part risk flag\n",
    "\n",
    "    rev_stop - Part risk flag\n",
    "\n",
    "    went_on_backorder - Product actually went on backorder. This is the target value.\n",
    "    \n",
    "         Yes or 1 : Product backordered\n",
    "\n",
    "         No or 0  : Product not backordered"
   ]
  },
  {
   "cell_type": "markdown",
   "metadata": {
    "colab_type": "text",
    "id": "jsZ4JoP8Ards"
   },
   "source": [
    "#### Identify Right Error Metrics\n",
    "\n",
    "    Based on the businees have to identify right error metrics."
   ]
  },
  {
   "cell_type": "markdown",
   "metadata": {
    "colab_type": "text",
    "id": "SIf4OWUkArdt"
   },
   "source": [
    "#### Loading the required libraries"
   ]
  },
  {
   "cell_type": "code",
   "execution_count": 1,
   "metadata": {
    "colab": {},
    "colab_type": "code",
    "id": "w8ky24mjArdv"
   },
   "outputs": [],
   "source": [
    "import pandas as pd\n",
    "import numpy as np\n",
    "\n",
    "from sklearn.metrics import confusion_matrix,roc_curve,auc,accuracy_score,classification_report\n",
    "from sklearn.model_selection import train_test_split\n",
    "from sklearn.model_selection import GridSearchCV\n",
    "\n",
    "import matplotlib.pyplot as plt\n",
    "\n",
    "import warnings\n",
    "warnings.filterwarnings('ignore')"
   ]
  },
  {
   "cell_type": "markdown",
   "metadata": {
    "colab_type": "text",
    "id": "vnAN84xJArd1"
   },
   "source": [
    "#### Loading the data"
   ]
  },
  {
   "cell_type": "code",
   "execution_count": 2,
   "metadata": {
    "colab": {},
    "colab_type": "code",
    "id": "EDKLsantArd3"
   },
   "outputs": [],
   "source": [
    "data = pd.read_csv(\"BackOrders.csv\",skiprows=4,na_values=['$','#','Null'],nrows=10000)"
   ]
  },
  {
   "cell_type": "markdown",
   "metadata": {
    "colab_type": "text",
    "id": "69Cl2BmZArd9"
   },
   "source": [
    "#### See the No. row and columns"
   ]
  },
  {
   "cell_type": "code",
   "execution_count": 3,
   "metadata": {
    "colab": {
     "base_uri": "https://localhost:8080/",
     "height": 34
    },
    "colab_type": "code",
    "executionInfo": {
     "elapsed": 3384,
     "status": "ok",
     "timestamp": 1582951770500,
     "user": {
      "displayName": "Kishore Kumar Varri",
      "photoUrl": "",
      "userId": "08592441580940176065"
     },
     "user_tz": -330
    },
    "id": "BSQe9CqpArd-",
    "outputId": "d3e06087-c01d-4add-ec8f-522fbf082f6c"
   },
   "outputs": [
    {
     "data": {
      "text/plain": [
       "(10000, 23)"
      ]
     },
     "execution_count": 3,
     "metadata": {},
     "output_type": "execute_result"
    }
   ],
   "source": [
    "data.shape"
   ]
  },
  {
   "cell_type": "markdown",
   "metadata": {},
   "source": [
    "#### See the sample data"
   ]
  },
  {
   "cell_type": "code",
   "execution_count": 4,
   "metadata": {
    "colab": {
     "base_uri": "https://localhost:8080/",
     "height": 224
    },
    "colab_type": "code",
    "executionInfo": {
     "elapsed": 3143,
     "status": "ok",
     "timestamp": 1582951770502,
     "user": {
      "displayName": "Kishore Kumar Varri",
      "photoUrl": "",
      "userId": "08592441580940176065"
     },
     "user_tz": -330
    },
    "id": "EU1xHxtiOTGD",
    "outputId": "8e1126ce-8291-4aa0-a342-5f61f2975a14"
   },
   "outputs": [
    {
     "data": {
      "text/html": [
       "<div>\n",
       "<style scoped>\n",
       "    .dataframe tbody tr th:only-of-type {\n",
       "        vertical-align: middle;\n",
       "    }\n",
       "\n",
       "    .dataframe tbody tr th {\n",
       "        vertical-align: top;\n",
       "    }\n",
       "\n",
       "    .dataframe thead th {\n",
       "        text-align: right;\n",
       "    }\n",
       "</style>\n",
       "<table border=\"1\" class=\"dataframe\">\n",
       "  <thead>\n",
       "    <tr style=\"text-align: right;\">\n",
       "      <th></th>\n",
       "      <th>sku</th>\n",
       "      <th>national_inv</th>\n",
       "      <th>lead_time</th>\n",
       "      <th>in_transit_qty</th>\n",
       "      <th>forecast_3_month</th>\n",
       "      <th>forecast_6_month</th>\n",
       "      <th>forecast_9_month</th>\n",
       "      <th>sales_1_month</th>\n",
       "      <th>sales_3_month</th>\n",
       "      <th>sales_6_month</th>\n",
       "      <th>...</th>\n",
       "      <th>pieces_past_due</th>\n",
       "      <th>perf_6_month_avg</th>\n",
       "      <th>perf_12_month_avg</th>\n",
       "      <th>local_bo_qty</th>\n",
       "      <th>deck_risk</th>\n",
       "      <th>oe_constraint</th>\n",
       "      <th>ppap_risk</th>\n",
       "      <th>stop_auto_buy</th>\n",
       "      <th>rev_stop</th>\n",
       "      <th>went_on_backorder</th>\n",
       "    </tr>\n",
       "  </thead>\n",
       "  <tbody>\n",
       "    <tr>\n",
       "      <th>0</th>\n",
       "      <td>1888279</td>\n",
       "      <td>NaN</td>\n",
       "      <td>NaN</td>\n",
       "      <td>0.0</td>\n",
       "      <td>0</td>\n",
       "      <td>0</td>\n",
       "      <td>0</td>\n",
       "      <td>0</td>\n",
       "      <td>0</td>\n",
       "      <td>15</td>\n",
       "      <td>...</td>\n",
       "      <td>0</td>\n",
       "      <td>-99.00</td>\n",
       "      <td>-99.00</td>\n",
       "      <td>0</td>\n",
       "      <td>No</td>\n",
       "      <td>No</td>\n",
       "      <td>Yes</td>\n",
       "      <td>Yes</td>\n",
       "      <td>No</td>\n",
       "      <td>No</td>\n",
       "    </tr>\n",
       "    <tr>\n",
       "      <th>1</th>\n",
       "      <td>1870557</td>\n",
       "      <td>7.0</td>\n",
       "      <td>2.0</td>\n",
       "      <td>0.0</td>\n",
       "      <td>0</td>\n",
       "      <td>0</td>\n",
       "      <td>0</td>\n",
       "      <td>0</td>\n",
       "      <td>0</td>\n",
       "      <td>0</td>\n",
       "      <td>...</td>\n",
       "      <td>0</td>\n",
       "      <td>0.50</td>\n",
       "      <td>0.28</td>\n",
       "      <td>0</td>\n",
       "      <td>Yes</td>\n",
       "      <td>No</td>\n",
       "      <td>No</td>\n",
       "      <td>Yes</td>\n",
       "      <td>No</td>\n",
       "      <td>No</td>\n",
       "    </tr>\n",
       "    <tr>\n",
       "      <th>2</th>\n",
       "      <td>1475481</td>\n",
       "      <td>258.0</td>\n",
       "      <td>15.0</td>\n",
       "      <td>10.0</td>\n",
       "      <td>10</td>\n",
       "      <td>77</td>\n",
       "      <td>184</td>\n",
       "      <td>46</td>\n",
       "      <td>132</td>\n",
       "      <td>256</td>\n",
       "      <td>...</td>\n",
       "      <td>0</td>\n",
       "      <td>0.54</td>\n",
       "      <td>0.70</td>\n",
       "      <td>0</td>\n",
       "      <td>No</td>\n",
       "      <td>No</td>\n",
       "      <td>No</td>\n",
       "      <td>Yes</td>\n",
       "      <td>No</td>\n",
       "      <td>No</td>\n",
       "    </tr>\n",
       "    <tr>\n",
       "      <th>3</th>\n",
       "      <td>1758220</td>\n",
       "      <td>46.0</td>\n",
       "      <td>2.0</td>\n",
       "      <td>0.0</td>\n",
       "      <td>0</td>\n",
       "      <td>0</td>\n",
       "      <td>0</td>\n",
       "      <td>1</td>\n",
       "      <td>2</td>\n",
       "      <td>6</td>\n",
       "      <td>...</td>\n",
       "      <td>0</td>\n",
       "      <td>0.75</td>\n",
       "      <td>0.90</td>\n",
       "      <td>0</td>\n",
       "      <td>Yes</td>\n",
       "      <td>No</td>\n",
       "      <td>No</td>\n",
       "      <td>Yes</td>\n",
       "      <td>No</td>\n",
       "      <td>No</td>\n",
       "    </tr>\n",
       "    <tr>\n",
       "      <th>4</th>\n",
       "      <td>1360312</td>\n",
       "      <td>2.0</td>\n",
       "      <td>2.0</td>\n",
       "      <td>0.0</td>\n",
       "      <td>4</td>\n",
       "      <td>6</td>\n",
       "      <td>10</td>\n",
       "      <td>2</td>\n",
       "      <td>2</td>\n",
       "      <td>5</td>\n",
       "      <td>...</td>\n",
       "      <td>0</td>\n",
       "      <td>0.97</td>\n",
       "      <td>0.92</td>\n",
       "      <td>0</td>\n",
       "      <td>No</td>\n",
       "      <td>No</td>\n",
       "      <td>No</td>\n",
       "      <td>Yes</td>\n",
       "      <td>No</td>\n",
       "      <td>No</td>\n",
       "    </tr>\n",
       "  </tbody>\n",
       "</table>\n",
       "<p>5 rows × 23 columns</p>\n",
       "</div>"
      ],
      "text/plain": [
       "       sku  national_inv  lead_time  in_transit_qty  forecast_3_month  \\\n",
       "0  1888279           NaN        NaN             0.0                 0   \n",
       "1  1870557           7.0        2.0             0.0                 0   \n",
       "2  1475481         258.0       15.0            10.0                10   \n",
       "3  1758220          46.0        2.0             0.0                 0   \n",
       "4  1360312           2.0        2.0             0.0                 4   \n",
       "\n",
       "   forecast_6_month  forecast_9_month  sales_1_month  sales_3_month  \\\n",
       "0                 0                 0              0              0   \n",
       "1                 0                 0              0              0   \n",
       "2                77               184             46            132   \n",
       "3                 0                 0              1              2   \n",
       "4                 6                10              2              2   \n",
       "\n",
       "   sales_6_month        ...         pieces_past_due  perf_6_month_avg  \\\n",
       "0             15        ...                       0            -99.00   \n",
       "1              0        ...                       0              0.50   \n",
       "2            256        ...                       0              0.54   \n",
       "3              6        ...                       0              0.75   \n",
       "4              5        ...                       0              0.97   \n",
       "\n",
       "  perf_12_month_avg  local_bo_qty  deck_risk  oe_constraint  ppap_risk  \\\n",
       "0            -99.00             0         No             No        Yes   \n",
       "1              0.28             0        Yes             No         No   \n",
       "2              0.70             0         No             No         No   \n",
       "3              0.90             0        Yes             No         No   \n",
       "4              0.92             0         No             No         No   \n",
       "\n",
       "  stop_auto_buy rev_stop went_on_backorder  \n",
       "0           Yes       No                No  \n",
       "1           Yes       No                No  \n",
       "2           Yes       No                No  \n",
       "3           Yes       No                No  \n",
       "4           Yes       No                No  \n",
       "\n",
       "[5 rows x 23 columns]"
      ]
     },
     "execution_count": 4,
     "metadata": {},
     "output_type": "execute_result"
    }
   ],
   "source": [
    "data.head()"
   ]
  },
  {
   "cell_type": "code",
   "execution_count": 5,
   "metadata": {},
   "outputs": [
    {
     "data": {
      "text/html": [
       "<div>\n",
       "<style scoped>\n",
       "    .dataframe tbody tr th:only-of-type {\n",
       "        vertical-align: middle;\n",
       "    }\n",
       "\n",
       "    .dataframe tbody tr th {\n",
       "        vertical-align: top;\n",
       "    }\n",
       "\n",
       "    .dataframe thead th {\n",
       "        text-align: right;\n",
       "    }\n",
       "</style>\n",
       "<table border=\"1\" class=\"dataframe\">\n",
       "  <thead>\n",
       "    <tr style=\"text-align: right;\">\n",
       "      <th></th>\n",
       "      <th>sku</th>\n",
       "      <th>national_inv</th>\n",
       "      <th>lead_time</th>\n",
       "      <th>in_transit_qty</th>\n",
       "      <th>forecast_3_month</th>\n",
       "      <th>forecast_6_month</th>\n",
       "      <th>forecast_9_month</th>\n",
       "      <th>sales_1_month</th>\n",
       "      <th>sales_3_month</th>\n",
       "      <th>sales_6_month</th>\n",
       "      <th>...</th>\n",
       "      <th>pieces_past_due</th>\n",
       "      <th>perf_6_month_avg</th>\n",
       "      <th>perf_12_month_avg</th>\n",
       "      <th>local_bo_qty</th>\n",
       "      <th>deck_risk</th>\n",
       "      <th>oe_constraint</th>\n",
       "      <th>ppap_risk</th>\n",
       "      <th>stop_auto_buy</th>\n",
       "      <th>rev_stop</th>\n",
       "      <th>went_on_backorder</th>\n",
       "    </tr>\n",
       "  </thead>\n",
       "  <tbody>\n",
       "    <tr>\n",
       "      <th>9995</th>\n",
       "      <td>1707127</td>\n",
       "      <td>24.0</td>\n",
       "      <td>3.0</td>\n",
       "      <td>0.0</td>\n",
       "      <td>20</td>\n",
       "      <td>40</td>\n",
       "      <td>80</td>\n",
       "      <td>9</td>\n",
       "      <td>27</td>\n",
       "      <td>64</td>\n",
       "      <td>...</td>\n",
       "      <td>0</td>\n",
       "      <td>0.52</td>\n",
       "      <td>0.41</td>\n",
       "      <td>0</td>\n",
       "      <td>No</td>\n",
       "      <td>No</td>\n",
       "      <td>No</td>\n",
       "      <td>Yes</td>\n",
       "      <td>No</td>\n",
       "      <td>No</td>\n",
       "    </tr>\n",
       "    <tr>\n",
       "      <th>9996</th>\n",
       "      <td>1685040</td>\n",
       "      <td>8.0</td>\n",
       "      <td>8.0</td>\n",
       "      <td>0.0</td>\n",
       "      <td>0</td>\n",
       "      <td>0</td>\n",
       "      <td>0</td>\n",
       "      <td>2</td>\n",
       "      <td>2</td>\n",
       "      <td>3</td>\n",
       "      <td>...</td>\n",
       "      <td>0</td>\n",
       "      <td>0.86</td>\n",
       "      <td>0.88</td>\n",
       "      <td>0</td>\n",
       "      <td>No</td>\n",
       "      <td>No</td>\n",
       "      <td>No</td>\n",
       "      <td>Yes</td>\n",
       "      <td>No</td>\n",
       "      <td>No</td>\n",
       "    </tr>\n",
       "    <tr>\n",
       "      <th>9997</th>\n",
       "      <td>2021141</td>\n",
       "      <td>3102.0</td>\n",
       "      <td>8.0</td>\n",
       "      <td>978.0</td>\n",
       "      <td>8991</td>\n",
       "      <td>15777</td>\n",
       "      <td>22581</td>\n",
       "      <td>611</td>\n",
       "      <td>1861</td>\n",
       "      <td>3535</td>\n",
       "      <td>...</td>\n",
       "      <td>0</td>\n",
       "      <td>0.98</td>\n",
       "      <td>0.99</td>\n",
       "      <td>0</td>\n",
       "      <td>No</td>\n",
       "      <td>No</td>\n",
       "      <td>No</td>\n",
       "      <td>Yes</td>\n",
       "      <td>No</td>\n",
       "      <td>No</td>\n",
       "    </tr>\n",
       "    <tr>\n",
       "      <th>9998</th>\n",
       "      <td>1212465</td>\n",
       "      <td>5.0</td>\n",
       "      <td>2.0</td>\n",
       "      <td>0.0</td>\n",
       "      <td>0</td>\n",
       "      <td>0</td>\n",
       "      <td>0</td>\n",
       "      <td>0</td>\n",
       "      <td>0</td>\n",
       "      <td>1</td>\n",
       "      <td>...</td>\n",
       "      <td>0</td>\n",
       "      <td>0.48</td>\n",
       "      <td>0.53</td>\n",
       "      <td>0</td>\n",
       "      <td>Yes</td>\n",
       "      <td>No</td>\n",
       "      <td>No</td>\n",
       "      <td>Yes</td>\n",
       "      <td>No</td>\n",
       "      <td>No</td>\n",
       "    </tr>\n",
       "    <tr>\n",
       "      <th>9999</th>\n",
       "      <td>1665971</td>\n",
       "      <td>17.0</td>\n",
       "      <td>8.0</td>\n",
       "      <td>0.0</td>\n",
       "      <td>0</td>\n",
       "      <td>15</td>\n",
       "      <td>30</td>\n",
       "      <td>2</td>\n",
       "      <td>9</td>\n",
       "      <td>20</td>\n",
       "      <td>...</td>\n",
       "      <td>0</td>\n",
       "      <td>0.99</td>\n",
       "      <td>0.99</td>\n",
       "      <td>0</td>\n",
       "      <td>No</td>\n",
       "      <td>No</td>\n",
       "      <td>No</td>\n",
       "      <td>Yes</td>\n",
       "      <td>No</td>\n",
       "      <td>No</td>\n",
       "    </tr>\n",
       "  </tbody>\n",
       "</table>\n",
       "<p>5 rows × 23 columns</p>\n",
       "</div>"
      ],
      "text/plain": [
       "          sku  national_inv  lead_time  in_transit_qty  forecast_3_month  \\\n",
       "9995  1707127          24.0        3.0             0.0                20   \n",
       "9996  1685040           8.0        8.0             0.0                 0   \n",
       "9997  2021141        3102.0        8.0           978.0              8991   \n",
       "9998  1212465           5.0        2.0             0.0                 0   \n",
       "9999  1665971          17.0        8.0             0.0                 0   \n",
       "\n",
       "      forecast_6_month  forecast_9_month  sales_1_month  sales_3_month  \\\n",
       "9995                40                80              9             27   \n",
       "9996                 0                 0              2              2   \n",
       "9997             15777             22581            611           1861   \n",
       "9998                 0                 0              0              0   \n",
       "9999                15                30              2              9   \n",
       "\n",
       "      sales_6_month        ...         pieces_past_due  perf_6_month_avg  \\\n",
       "9995             64        ...                       0              0.52   \n",
       "9996              3        ...                       0              0.86   \n",
       "9997           3535        ...                       0              0.98   \n",
       "9998              1        ...                       0              0.48   \n",
       "9999             20        ...                       0              0.99   \n",
       "\n",
       "     perf_12_month_avg  local_bo_qty  deck_risk  oe_constraint  ppap_risk  \\\n",
       "9995              0.41             0         No             No         No   \n",
       "9996              0.88             0         No             No         No   \n",
       "9997              0.99             0         No             No         No   \n",
       "9998              0.53             0        Yes             No         No   \n",
       "9999              0.99             0         No             No         No   \n",
       "\n",
       "     stop_auto_buy rev_stop went_on_backorder  \n",
       "9995           Yes       No                No  \n",
       "9996           Yes       No                No  \n",
       "9997           Yes       No                No  \n",
       "9998           Yes       No                No  \n",
       "9999           Yes       No                No  \n",
       "\n",
       "[5 rows x 23 columns]"
      ]
     },
     "execution_count": 5,
     "metadata": {},
     "output_type": "execute_result"
    }
   ],
   "source": [
    "data.tail()"
   ]
  },
  {
   "cell_type": "markdown",
   "metadata": {
    "colab": {
     "base_uri": "https://localhost:8080/",
     "height": 68
    },
    "colab_type": "code",
    "executionInfo": {
     "elapsed": 2889,
     "status": "ok",
     "timestamp": 1582951770503,
     "user": {
      "displayName": "Kishore Kumar Varri",
      "photoUrl": "",
      "userId": "08592441580940176065"
     },
     "user_tz": -330
    },
    "id": "mdh8KkL-g5Nm",
    "outputId": "ce5c2d34-4b48-4510-bfc2-9c0076cf9e2f"
   },
   "source": [
    "#### Check the class imbalance "
   ]
  },
  {
   "cell_type": "code",
   "execution_count": 6,
   "metadata": {
    "colab": {
     "base_uri": "https://localhost:8080/",
     "height": 68
    },
    "colab_type": "code",
    "executionInfo": {
     "elapsed": 2215,
     "status": "ok",
     "timestamp": 1582951770504,
     "user": {
      "displayName": "Kishore Kumar Varri",
      "photoUrl": "",
      "userId": "08592441580940176065"
     },
     "user_tz": -330
    },
    "id": "InOmVVybW38c",
    "outputId": "f9a14546-fcac-4cca-939f-40e74c38afaf"
   },
   "outputs": [
    {
     "data": {
      "text/plain": [
       "No     8145\n",
       "Yes    1855\n",
       "Name: went_on_backorder, dtype: int64"
      ]
     },
     "execution_count": 6,
     "metadata": {},
     "output_type": "execute_result"
    }
   ],
   "source": [
    "data.went_on_backorder.value_counts()"
   ]
  },
  {
   "cell_type": "markdown",
   "metadata": {
    "colab_type": "text",
    "id": "hOimt99QAreG"
   },
   "source": [
    "#### Display the columns"
   ]
  },
  {
   "cell_type": "code",
   "execution_count": 7,
   "metadata": {
    "colab": {
     "base_uri": "https://localhost:8080/",
     "height": 136
    },
    "colab_type": "code",
    "executionInfo": {
     "elapsed": 1652,
     "status": "ok",
     "timestamp": 1582951771111,
     "user": {
      "displayName": "Kishore Kumar Varri",
      "photoUrl": "",
      "userId": "08592441580940176065"
     },
     "user_tz": -330
    },
    "id": "g88zfgKBAreH",
    "outputId": "251c988f-1890-47fe-c117-e3bfdab0d25a"
   },
   "outputs": [
    {
     "data": {
      "text/plain": [
       "Index(['sku', 'national_inv', 'lead_time', 'in_transit_qty',\n",
       "       'forecast_3_month', 'forecast_6_month', 'forecast_9_month',\n",
       "       'sales_1_month', 'sales_3_month', 'sales_6_month', 'sales_9_month',\n",
       "       'min_bank', 'potential_issue', 'pieces_past_due', 'perf_6_month_avg',\n",
       "       'perf_12_month_avg', 'local_bo_qty', 'deck_risk', 'oe_constraint',\n",
       "       'ppap_risk', 'stop_auto_buy', 'rev_stop', 'went_on_backorder'],\n",
       "      dtype='object')"
      ]
     },
     "execution_count": 7,
     "metadata": {},
     "output_type": "execute_result"
    }
   ],
   "source": [
    "data.columns"
   ]
  },
  {
   "cell_type": "markdown",
   "metadata": {
    "colab_type": "text",
    "id": "2A6668k-Areb"
   },
   "source": [
    "### Shows a quick statistic summary of your data using describe"
   ]
  },
  {
   "cell_type": "markdown",
   "metadata": {
    "colab_type": "text",
    "id": "o4bRKXa4Arek"
   },
   "source": [
    "#### Display data type of each variable"
   ]
  },
  {
   "cell_type": "code",
   "execution_count": 8,
   "metadata": {
    "colab": {
     "base_uri": "https://localhost:8080/",
     "height": 425
    },
    "colab_type": "code",
    "executionInfo": {
     "elapsed": 1161,
     "status": "ok",
     "timestamp": 1582951774169,
     "user": {
      "displayName": "Kishore Kumar Varri",
      "photoUrl": "",
      "userId": "08592441580940176065"
     },
     "user_tz": -330
    },
    "id": "CASo35AoArem",
    "outputId": "34d92842-f91c-4466-ede5-c5226faa9e59",
    "scrolled": true
   },
   "outputs": [
    {
     "data": {
      "text/plain": [
       "sku                    int64\n",
       "national_inv         float64\n",
       "lead_time            float64\n",
       "in_transit_qty       float64\n",
       "forecast_3_month       int64\n",
       "forecast_6_month       int64\n",
       "forecast_9_month       int64\n",
       "sales_1_month          int64\n",
       "sales_3_month          int64\n",
       "sales_6_month          int64\n",
       "sales_9_month          int64\n",
       "min_bank               int64\n",
       "potential_issue       object\n",
       "pieces_past_due        int64\n",
       "perf_6_month_avg     float64\n",
       "perf_12_month_avg    float64\n",
       "local_bo_qty           int64\n",
       "deck_risk             object\n",
       "oe_constraint         object\n",
       "ppap_risk             object\n",
       "stop_auto_buy         object\n",
       "rev_stop              object\n",
       "went_on_backorder     object\n",
       "dtype: object"
      ]
     },
     "execution_count": 8,
     "metadata": {},
     "output_type": "execute_result"
    }
   ],
   "source": [
    "data.dtypes"
   ]
  },
  {
   "cell_type": "markdown",
   "metadata": {},
   "source": [
    "#### Check the null values"
   ]
  },
  {
   "cell_type": "code",
   "execution_count": 9,
   "metadata": {
    "colab": {
     "base_uri": "https://localhost:8080/",
     "height": 425
    },
    "colab_type": "code",
    "executionInfo": {
     "elapsed": 842,
     "status": "ok",
     "timestamp": 1582951774171,
     "user": {
      "displayName": "Kishore Kumar Varri",
      "photoUrl": "",
      "userId": "08592441580940176065"
     },
     "user_tz": -330
    },
    "id": "cR3g5w29Pc1Y",
    "outputId": "c2dac63a-a94b-4989-f1f5-1d8c3eca1931"
   },
   "outputs": [
    {
     "data": {
      "text/plain": [
       "sku                    0\n",
       "national_inv           3\n",
       "lead_time            567\n",
       "in_transit_qty         1\n",
       "forecast_3_month       0\n",
       "forecast_6_month       0\n",
       "forecast_9_month       0\n",
       "sales_1_month          0\n",
       "sales_3_month          0\n",
       "sales_6_month          0\n",
       "sales_9_month          0\n",
       "min_bank               0\n",
       "potential_issue        0\n",
       "pieces_past_due        0\n",
       "perf_6_month_avg       0\n",
       "perf_12_month_avg      0\n",
       "local_bo_qty           0\n",
       "deck_risk              0\n",
       "oe_constraint          0\n",
       "ppap_risk              0\n",
       "stop_auto_buy          0\n",
       "rev_stop               0\n",
       "went_on_backorder      0\n",
       "dtype: int64"
      ]
     },
     "execution_count": 9,
     "metadata": {},
     "output_type": "execute_result"
    }
   ],
   "source": [
    "data.isna().sum()"
   ]
  },
  {
   "cell_type": "markdown",
   "metadata": {
    "colab": {},
    "colab_type": "code",
    "id": "klBVP576PQCI"
   },
   "source": [
    "#### Remove them if present"
   ]
  },
  {
   "cell_type": "code",
   "execution_count": 10,
   "metadata": {
    "colab": {
     "base_uri": "https://localhost:8080/",
     "height": 442
    },
    "colab_type": "code",
    "executionInfo": {
     "elapsed": 819,
     "status": "ok",
     "timestamp": 1582951775201,
     "user": {
      "displayName": "Kishore Kumar Varri",
      "photoUrl": "",
      "userId": "08592441580940176065"
     },
     "user_tz": -330
    },
    "id": "GBQQXg5NPTAn",
    "outputId": "29c64863-d04f-4d40-c592-cb9b1e9fcb05"
   },
   "outputs": [],
   "source": [
    "data=data.dropna(axis=0)"
   ]
  },
  {
   "cell_type": "code",
   "execution_count": 11,
   "metadata": {},
   "outputs": [
    {
     "data": {
      "text/plain": [
       "sku                  0\n",
       "national_inv         0\n",
       "lead_time            0\n",
       "in_transit_qty       0\n",
       "forecast_3_month     0\n",
       "forecast_6_month     0\n",
       "forecast_9_month     0\n",
       "sales_1_month        0\n",
       "sales_3_month        0\n",
       "sales_6_month        0\n",
       "sales_9_month        0\n",
       "min_bank             0\n",
       "potential_issue      0\n",
       "pieces_past_due      0\n",
       "perf_6_month_avg     0\n",
       "perf_12_month_avg    0\n",
       "local_bo_qty         0\n",
       "deck_risk            0\n",
       "oe_constraint        0\n",
       "ppap_risk            0\n",
       "stop_auto_buy        0\n",
       "rev_stop             0\n",
       "went_on_backorder    0\n",
       "dtype: int64"
      ]
     },
     "execution_count": 11,
     "metadata": {},
     "output_type": "execute_result"
    }
   ],
   "source": [
    "data.isnull().sum()"
   ]
  },
  {
   "cell_type": "markdown",
   "metadata": {
    "colab_type": "text",
    "id": "jTf4x7VKUJ2h"
   },
   "source": [
    "#### Delete the column which are not necessary"
   ]
  },
  {
   "cell_type": "code",
   "execution_count": 12,
   "metadata": {
    "colab": {
     "base_uri": "https://localhost:8080/",
     "height": 34
    },
    "colab_type": "code",
    "executionInfo": {
     "elapsed": 1100,
     "status": "ok",
     "timestamp": 1582951776377,
     "user": {
      "displayName": "Kishore Kumar Varri",
      "photoUrl": "",
      "userId": "08592441580940176065"
     },
     "user_tz": -330
    },
    "id": "aZn_Oro4USWD",
    "outputId": "ead85fe6-4ef0-4622-b32b-61509e7d2ff9"
   },
   "outputs": [],
   "source": [
    "data.drop('sku',axis=1,inplace=True)"
   ]
  },
  {
   "cell_type": "markdown",
   "metadata": {
    "colab_type": "text",
    "id": "VMAgV0DrAreq"
   },
   "source": [
    "#### Observations\n",
    "\n",
    "    sku is Categorical but is interpreted as int64 \n",
    "    potential_issue, deck_risk, oe_constraint, ppap_risk, stop_auto_buy, rev_stop, and went_on_backorder are also categorical but is interpreted as object. "
   ]
  },
  {
   "cell_type": "markdown",
   "metadata": {
    "colab_type": "text",
    "id": "v3Ooy2k8Ares"
   },
   "source": [
    "#### Convert categorical attributes to Labels"
   ]
  },
  {
   "cell_type": "markdown",
   "metadata": {
    "colab_type": "text",
    "id": "XsFLawHkAres"
   },
   "source": [
    "Data type conversion\n",
    "\n",
    "    Using astype('category') to convert potential_issue, deck_risk, oe_constraint, ppap_risk, stop_auto_buy, rev_stop, and went_on_backorder attributes to categorical attributes.\n"
   ]
  },
  {
   "cell_type": "code",
   "execution_count": 13,
   "metadata": {},
   "outputs": [],
   "source": [
    "cat_cols = ['potential_issue', 'deck_risk', 'oe_constraint', 'ppap_risk', 'stop_auto_buy', 'rev_stop', 'went_on_backorder']\n",
    "X=data\n",
    "from sklearn.preprocessing import LabelEncoder\n",
    "for i in range(0,len(X.columns)):\n",
    "    j=X.columns[i]\n",
    "    if(j in cat_cols):\n",
    "        le = LabelEncoder()                  # converts the character array to numeric array. Assigns levels to unique labels.\n",
    "        le.fit(X[j])\n",
    "        X[j] = le.transform(X[j])\n",
    "        X[j]=X[j].astype('category')\n",
    "\n",
    "data1=X"
   ]
  },
  {
   "cell_type": "markdown",
   "metadata": {
    "colab_type": "text",
    "id": "-HW0cipAAre4"
   },
   "source": [
    "#### Display data type of each variable"
   ]
  },
  {
   "cell_type": "code",
   "execution_count": 14,
   "metadata": {
    "colab": {
     "base_uri": "https://localhost:8080/",
     "height": 408
    },
    "colab_type": "code",
    "executionInfo": {
     "elapsed": 773,
     "status": "ok",
     "timestamp": 1582951855618,
     "user": {
      "displayName": "Kishore Kumar Varri",
      "photoUrl": "",
      "userId": "08592441580940176065"
     },
     "user_tz": -330
    },
    "id": "yh9jGYn8Are6",
    "outputId": "7a29132e-ca52-4039-a131-45fe1d4dbc93"
   },
   "outputs": [
    {
     "data": {
      "text/plain": [
       "national_inv          float64\n",
       "lead_time             float64\n",
       "in_transit_qty        float64\n",
       "forecast_3_month        int64\n",
       "forecast_6_month        int64\n",
       "forecast_9_month        int64\n",
       "sales_1_month           int64\n",
       "sales_3_month           int64\n",
       "sales_6_month           int64\n",
       "sales_9_month           int64\n",
       "min_bank                int64\n",
       "potential_issue      category\n",
       "pieces_past_due         int64\n",
       "perf_6_month_avg      float64\n",
       "perf_12_month_avg     float64\n",
       "local_bo_qty            int64\n",
       "deck_risk            category\n",
       "oe_constraint        category\n",
       "ppap_risk            category\n",
       "stop_auto_buy        category\n",
       "rev_stop             category\n",
       "went_on_backorder    category\n",
       "dtype: object"
      ]
     },
     "execution_count": 14,
     "metadata": {},
     "output_type": "execute_result"
    }
   ],
   "source": [
    "data.dtypes"
   ]
  },
  {
   "cell_type": "markdown",
   "metadata": {},
   "source": [
    "## Handling outliers (Procedure 1) "
   ]
  },
  {
   "cell_type": "code",
   "execution_count": 15,
   "metadata": {},
   "outputs": [],
   "source": [
    "data_temp = data1.copy()"
   ]
  },
  {
   "cell_type": "code",
   "execution_count": 16,
   "metadata": {},
   "outputs": [],
   "source": [
    "num_cols = data_temp.select_dtypes(exclude='category')\n",
    "cat_cols = data_temp.select_dtypes(include='category')"
   ]
  },
  {
   "cell_type": "code",
   "execution_count": 17,
   "metadata": {},
   "outputs": [
    {
     "data": {
      "text/html": [
       "<div>\n",
       "<style scoped>\n",
       "    .dataframe tbody tr th:only-of-type {\n",
       "        vertical-align: middle;\n",
       "    }\n",
       "\n",
       "    .dataframe tbody tr th {\n",
       "        vertical-align: top;\n",
       "    }\n",
       "\n",
       "    .dataframe thead th {\n",
       "        text-align: right;\n",
       "    }\n",
       "</style>\n",
       "<table border=\"1\" class=\"dataframe\">\n",
       "  <thead>\n",
       "    <tr style=\"text-align: right;\">\n",
       "      <th></th>\n",
       "      <th>national_inv</th>\n",
       "      <th>lead_time</th>\n",
       "      <th>in_transit_qty</th>\n",
       "      <th>forecast_3_month</th>\n",
       "      <th>forecast_6_month</th>\n",
       "      <th>forecast_9_month</th>\n",
       "      <th>sales_1_month</th>\n",
       "      <th>sales_3_month</th>\n",
       "      <th>sales_6_month</th>\n",
       "      <th>sales_9_month</th>\n",
       "      <th>min_bank</th>\n",
       "      <th>pieces_past_due</th>\n",
       "      <th>perf_6_month_avg</th>\n",
       "      <th>perf_12_month_avg</th>\n",
       "      <th>local_bo_qty</th>\n",
       "    </tr>\n",
       "  </thead>\n",
       "  <tbody>\n",
       "    <tr>\n",
       "      <th>1</th>\n",
       "      <td>7.0</td>\n",
       "      <td>2.0</td>\n",
       "      <td>0.0</td>\n",
       "      <td>0</td>\n",
       "      <td>0</td>\n",
       "      <td>0</td>\n",
       "      <td>0</td>\n",
       "      <td>0</td>\n",
       "      <td>0</td>\n",
       "      <td>0</td>\n",
       "      <td>0</td>\n",
       "      <td>0</td>\n",
       "      <td>0.50</td>\n",
       "      <td>0.28</td>\n",
       "      <td>0</td>\n",
       "    </tr>\n",
       "    <tr>\n",
       "      <th>2</th>\n",
       "      <td>258.0</td>\n",
       "      <td>15.0</td>\n",
       "      <td>10.0</td>\n",
       "      <td>10</td>\n",
       "      <td>77</td>\n",
       "      <td>184</td>\n",
       "      <td>46</td>\n",
       "      <td>132</td>\n",
       "      <td>256</td>\n",
       "      <td>365</td>\n",
       "      <td>47</td>\n",
       "      <td>0</td>\n",
       "      <td>0.54</td>\n",
       "      <td>0.70</td>\n",
       "      <td>0</td>\n",
       "    </tr>\n",
       "    <tr>\n",
       "      <th>3</th>\n",
       "      <td>46.0</td>\n",
       "      <td>2.0</td>\n",
       "      <td>0.0</td>\n",
       "      <td>0</td>\n",
       "      <td>0</td>\n",
       "      <td>0</td>\n",
       "      <td>1</td>\n",
       "      <td>2</td>\n",
       "      <td>6</td>\n",
       "      <td>9</td>\n",
       "      <td>1</td>\n",
       "      <td>0</td>\n",
       "      <td>0.75</td>\n",
       "      <td>0.90</td>\n",
       "      <td>0</td>\n",
       "    </tr>\n",
       "    <tr>\n",
       "      <th>4</th>\n",
       "      <td>2.0</td>\n",
       "      <td>2.0</td>\n",
       "      <td>0.0</td>\n",
       "      <td>4</td>\n",
       "      <td>6</td>\n",
       "      <td>10</td>\n",
       "      <td>2</td>\n",
       "      <td>2</td>\n",
       "      <td>5</td>\n",
       "      <td>6</td>\n",
       "      <td>0</td>\n",
       "      <td>0</td>\n",
       "      <td>0.97</td>\n",
       "      <td>0.92</td>\n",
       "      <td>0</td>\n",
       "    </tr>\n",
       "    <tr>\n",
       "      <th>7</th>\n",
       "      <td>6.0</td>\n",
       "      <td>2.0</td>\n",
       "      <td>0.0</td>\n",
       "      <td>0</td>\n",
       "      <td>3</td>\n",
       "      <td>9</td>\n",
       "      <td>1</td>\n",
       "      <td>5</td>\n",
       "      <td>8</td>\n",
       "      <td>13</td>\n",
       "      <td>0</td>\n",
       "      <td>0</td>\n",
       "      <td>0.86</td>\n",
       "      <td>0.77</td>\n",
       "      <td>0</td>\n",
       "    </tr>\n",
       "  </tbody>\n",
       "</table>\n",
       "</div>"
      ],
      "text/plain": [
       "   national_inv  lead_time  in_transit_qty  forecast_3_month  \\\n",
       "1           7.0        2.0             0.0                 0   \n",
       "2         258.0       15.0            10.0                10   \n",
       "3          46.0        2.0             0.0                 0   \n",
       "4           2.0        2.0             0.0                 4   \n",
       "7           6.0        2.0             0.0                 0   \n",
       "\n",
       "   forecast_6_month  forecast_9_month  sales_1_month  sales_3_month  \\\n",
       "1                 0                 0              0              0   \n",
       "2                77               184             46            132   \n",
       "3                 0                 0              1              2   \n",
       "4                 6                10              2              2   \n",
       "7                 3                 9              1              5   \n",
       "\n",
       "   sales_6_month  sales_9_month  min_bank  pieces_past_due  perf_6_month_avg  \\\n",
       "1              0              0         0                0              0.50   \n",
       "2            256            365        47                0              0.54   \n",
       "3              6              9         1                0              0.75   \n",
       "4              5              6         0                0              0.97   \n",
       "7              8             13         0                0              0.86   \n",
       "\n",
       "   perf_12_month_avg  local_bo_qty  \n",
       "1               0.28             0  \n",
       "2               0.70             0  \n",
       "3               0.90             0  \n",
       "4               0.92             0  \n",
       "7               0.77             0  "
      ]
     },
     "execution_count": 17,
     "metadata": {},
     "output_type": "execute_result"
    }
   ],
   "source": [
    "num_cols.shape\n",
    "num_cols.head()"
   ]
  },
  {
   "cell_type": "code",
   "execution_count": 18,
   "metadata": {},
   "outputs": [
    {
     "data": {
      "text/plain": [
       "(8852, 15)"
      ]
     },
     "execution_count": 18,
     "metadata": {},
     "output_type": "execute_result"
    }
   ],
   "source": [
    "from scipy import stats\n",
    "data_temp1 = num_cols[(np.abs(stats.zscore(num_cols)) < 1.5).all(axis=1)]\n",
    "data_temp1.shape"
   ]
  },
  {
   "cell_type": "code",
   "execution_count": 19,
   "metadata": {},
   "outputs": [
    {
     "data": {
      "text/html": [
       "<div>\n",
       "<style scoped>\n",
       "    .dataframe tbody tr th:only-of-type {\n",
       "        vertical-align: middle;\n",
       "    }\n",
       "\n",
       "    .dataframe tbody tr th {\n",
       "        vertical-align: top;\n",
       "    }\n",
       "\n",
       "    .dataframe thead th {\n",
       "        text-align: right;\n",
       "    }\n",
       "</style>\n",
       "<table border=\"1\" class=\"dataframe\">\n",
       "  <thead>\n",
       "    <tr style=\"text-align: right;\">\n",
       "      <th></th>\n",
       "      <th>national_inv</th>\n",
       "      <th>lead_time</th>\n",
       "      <th>in_transit_qty</th>\n",
       "      <th>forecast_3_month</th>\n",
       "      <th>forecast_6_month</th>\n",
       "      <th>forecast_9_month</th>\n",
       "      <th>sales_1_month</th>\n",
       "      <th>sales_3_month</th>\n",
       "      <th>sales_6_month</th>\n",
       "      <th>sales_9_month</th>\n",
       "      <th>min_bank</th>\n",
       "      <th>pieces_past_due</th>\n",
       "      <th>perf_6_month_avg</th>\n",
       "      <th>perf_12_month_avg</th>\n",
       "      <th>local_bo_qty</th>\n",
       "    </tr>\n",
       "  </thead>\n",
       "  <tbody>\n",
       "    <tr>\n",
       "      <th>1</th>\n",
       "      <td>7.0</td>\n",
       "      <td>2.0</td>\n",
       "      <td>0.0</td>\n",
       "      <td>0</td>\n",
       "      <td>0</td>\n",
       "      <td>0</td>\n",
       "      <td>0</td>\n",
       "      <td>0</td>\n",
       "      <td>0</td>\n",
       "      <td>0</td>\n",
       "      <td>0</td>\n",
       "      <td>0</td>\n",
       "      <td>0.50</td>\n",
       "      <td>0.28</td>\n",
       "      <td>0</td>\n",
       "    </tr>\n",
       "    <tr>\n",
       "      <th>2</th>\n",
       "      <td>258.0</td>\n",
       "      <td>15.0</td>\n",
       "      <td>10.0</td>\n",
       "      <td>10</td>\n",
       "      <td>77</td>\n",
       "      <td>184</td>\n",
       "      <td>46</td>\n",
       "      <td>132</td>\n",
       "      <td>256</td>\n",
       "      <td>365</td>\n",
       "      <td>47</td>\n",
       "      <td>0</td>\n",
       "      <td>0.54</td>\n",
       "      <td>0.70</td>\n",
       "      <td>0</td>\n",
       "    </tr>\n",
       "    <tr>\n",
       "      <th>3</th>\n",
       "      <td>46.0</td>\n",
       "      <td>2.0</td>\n",
       "      <td>0.0</td>\n",
       "      <td>0</td>\n",
       "      <td>0</td>\n",
       "      <td>0</td>\n",
       "      <td>1</td>\n",
       "      <td>2</td>\n",
       "      <td>6</td>\n",
       "      <td>9</td>\n",
       "      <td>1</td>\n",
       "      <td>0</td>\n",
       "      <td>0.75</td>\n",
       "      <td>0.90</td>\n",
       "      <td>0</td>\n",
       "    </tr>\n",
       "    <tr>\n",
       "      <th>4</th>\n",
       "      <td>2.0</td>\n",
       "      <td>2.0</td>\n",
       "      <td>0.0</td>\n",
       "      <td>4</td>\n",
       "      <td>6</td>\n",
       "      <td>10</td>\n",
       "      <td>2</td>\n",
       "      <td>2</td>\n",
       "      <td>5</td>\n",
       "      <td>6</td>\n",
       "      <td>0</td>\n",
       "      <td>0</td>\n",
       "      <td>0.97</td>\n",
       "      <td>0.92</td>\n",
       "      <td>0</td>\n",
       "    </tr>\n",
       "    <tr>\n",
       "      <th>7</th>\n",
       "      <td>6.0</td>\n",
       "      <td>2.0</td>\n",
       "      <td>0.0</td>\n",
       "      <td>0</td>\n",
       "      <td>3</td>\n",
       "      <td>9</td>\n",
       "      <td>1</td>\n",
       "      <td>5</td>\n",
       "      <td>8</td>\n",
       "      <td>13</td>\n",
       "      <td>0</td>\n",
       "      <td>0</td>\n",
       "      <td>0.86</td>\n",
       "      <td>0.77</td>\n",
       "      <td>0</td>\n",
       "    </tr>\n",
       "  </tbody>\n",
       "</table>\n",
       "</div>"
      ],
      "text/plain": [
       "   national_inv  lead_time  in_transit_qty  forecast_3_month  \\\n",
       "1           7.0        2.0             0.0                 0   \n",
       "2         258.0       15.0            10.0                10   \n",
       "3          46.0        2.0             0.0                 0   \n",
       "4           2.0        2.0             0.0                 4   \n",
       "7           6.0        2.0             0.0                 0   \n",
       "\n",
       "   forecast_6_month  forecast_9_month  sales_1_month  sales_3_month  \\\n",
       "1                 0                 0              0              0   \n",
       "2                77               184             46            132   \n",
       "3                 0                 0              1              2   \n",
       "4                 6                10              2              2   \n",
       "7                 3                 9              1              5   \n",
       "\n",
       "   sales_6_month  sales_9_month  min_bank  pieces_past_due  perf_6_month_avg  \\\n",
       "1              0              0         0                0              0.50   \n",
       "2            256            365        47                0              0.54   \n",
       "3              6              9         1                0              0.75   \n",
       "4              5              6         0                0              0.97   \n",
       "7              8             13         0                0              0.86   \n",
       "\n",
       "   perf_12_month_avg  local_bo_qty  \n",
       "1               0.28             0  \n",
       "2               0.70             0  \n",
       "3               0.90             0  \n",
       "4               0.92             0  \n",
       "7               0.77             0  "
      ]
     },
     "execution_count": 19,
     "metadata": {},
     "output_type": "execute_result"
    }
   ],
   "source": [
    "data_temp1.head()"
   ]
  },
  {
   "cell_type": "code",
   "execution_count": 20,
   "metadata": {},
   "outputs": [
    {
     "data": {
      "text/html": [
       "<div>\n",
       "<style scoped>\n",
       "    .dataframe tbody tr th:only-of-type {\n",
       "        vertical-align: middle;\n",
       "    }\n",
       "\n",
       "    .dataframe tbody tr th {\n",
       "        vertical-align: top;\n",
       "    }\n",
       "\n",
       "    .dataframe thead th {\n",
       "        text-align: right;\n",
       "    }\n",
       "</style>\n",
       "<table border=\"1\" class=\"dataframe\">\n",
       "  <thead>\n",
       "    <tr style=\"text-align: right;\">\n",
       "      <th></th>\n",
       "      <th>potential_issue</th>\n",
       "      <th>deck_risk</th>\n",
       "      <th>oe_constraint</th>\n",
       "      <th>ppap_risk</th>\n",
       "      <th>stop_auto_buy</th>\n",
       "      <th>rev_stop</th>\n",
       "      <th>went_on_backorder</th>\n",
       "    </tr>\n",
       "  </thead>\n",
       "  <tbody>\n",
       "    <tr>\n",
       "      <th>1</th>\n",
       "      <td>0</td>\n",
       "      <td>1</td>\n",
       "      <td>0</td>\n",
       "      <td>0</td>\n",
       "      <td>1</td>\n",
       "      <td>0</td>\n",
       "      <td>0</td>\n",
       "    </tr>\n",
       "    <tr>\n",
       "      <th>2</th>\n",
       "      <td>0</td>\n",
       "      <td>0</td>\n",
       "      <td>0</td>\n",
       "      <td>0</td>\n",
       "      <td>1</td>\n",
       "      <td>0</td>\n",
       "      <td>0</td>\n",
       "    </tr>\n",
       "    <tr>\n",
       "      <th>3</th>\n",
       "      <td>0</td>\n",
       "      <td>1</td>\n",
       "      <td>0</td>\n",
       "      <td>0</td>\n",
       "      <td>1</td>\n",
       "      <td>0</td>\n",
       "      <td>0</td>\n",
       "    </tr>\n",
       "    <tr>\n",
       "      <th>4</th>\n",
       "      <td>0</td>\n",
       "      <td>0</td>\n",
       "      <td>0</td>\n",
       "      <td>0</td>\n",
       "      <td>1</td>\n",
       "      <td>0</td>\n",
       "      <td>0</td>\n",
       "    </tr>\n",
       "    <tr>\n",
       "      <th>7</th>\n",
       "      <td>0</td>\n",
       "      <td>0</td>\n",
       "      <td>0</td>\n",
       "      <td>0</td>\n",
       "      <td>1</td>\n",
       "      <td>0</td>\n",
       "      <td>1</td>\n",
       "    </tr>\n",
       "  </tbody>\n",
       "</table>\n",
       "</div>"
      ],
      "text/plain": [
       "  potential_issue deck_risk oe_constraint ppap_risk stop_auto_buy rev_stop  \\\n",
       "1               0         1             0         0             1        0   \n",
       "2               0         0             0         0             1        0   \n",
       "3               0         1             0         0             1        0   \n",
       "4               0         0             0         0             1        0   \n",
       "7               0         0             0         0             1        0   \n",
       "\n",
       "  went_on_backorder  \n",
       "1                 0  \n",
       "2                 0  \n",
       "3                 0  \n",
       "4                 0  \n",
       "7                 1  "
      ]
     },
     "execution_count": 20,
     "metadata": {},
     "output_type": "execute_result"
    }
   ],
   "source": [
    "cat_cols.head()"
   ]
  },
  {
   "cell_type": "code",
   "execution_count": 21,
   "metadata": {},
   "outputs": [
    {
     "data": {
      "text/plain": [
       "(8852, 22)"
      ]
     },
     "execution_count": 21,
     "metadata": {},
     "output_type": "execute_result"
    }
   ],
   "source": [
    "data1_imputed = pd.concat([data_temp1,cat_cols],join='inner',axis=1)\n",
    "data1_imputed.shape"
   ]
  },
  {
   "cell_type": "markdown",
   "metadata": {},
   "source": [
    "#### concatenate both cat and num columns"
   ]
  },
  {
   "cell_type": "markdown",
   "metadata": {},
   "source": [
    "## Outliers handling (Procedure 2)"
   ]
  },
  {
   "cell_type": "code",
   "execution_count": 22,
   "metadata": {},
   "outputs": [],
   "source": [
    "num_cols = data_temp.select_dtypes(exclude='category')\n",
    "cat_cols = data_temp.select_dtypes(include='category')"
   ]
  },
  {
   "cell_type": "code",
   "execution_count": 23,
   "metadata": {},
   "outputs": [],
   "source": [
    "for col in num_cols.columns:\n",
    "    mu = num_cols[col].mean()\n",
    "    sigma = num_cols[col].std()\n",
    "    min_val = mu - 3*sigma\n",
    "    max_val = mu + 3*sigma\n",
    "    num_cols[col] = num_cols[col].clip(min_val,max_val) # replaces the values that are less and greater than min_val and\n",
    "    # max_val with the min_val and max_val respectively "
   ]
  },
  {
   "cell_type": "code",
   "execution_count": 24,
   "metadata": {},
   "outputs": [
    {
     "data": {
      "text/html": [
       "<div>\n",
       "<style scoped>\n",
       "    .dataframe tbody tr th:only-of-type {\n",
       "        vertical-align: middle;\n",
       "    }\n",
       "\n",
       "    .dataframe tbody tr th {\n",
       "        vertical-align: top;\n",
       "    }\n",
       "\n",
       "    .dataframe thead th {\n",
       "        text-align: right;\n",
       "    }\n",
       "</style>\n",
       "<table border=\"1\" class=\"dataframe\">\n",
       "  <thead>\n",
       "    <tr style=\"text-align: right;\">\n",
       "      <th></th>\n",
       "      <th>count</th>\n",
       "      <th>mean</th>\n",
       "      <th>std</th>\n",
       "      <th>min</th>\n",
       "      <th>25%</th>\n",
       "      <th>50%</th>\n",
       "      <th>75%</th>\n",
       "      <th>max</th>\n",
       "    </tr>\n",
       "  </thead>\n",
       "  <tbody>\n",
       "    <tr>\n",
       "      <th>national_inv</th>\n",
       "      <td>9431.0</td>\n",
       "      <td>193.410146</td>\n",
       "      <td>939.261849</td>\n",
       "      <td>-2999.000000</td>\n",
       "      <td>2.50</td>\n",
       "      <td>10.00</td>\n",
       "      <td>52.00</td>\n",
       "      <td>12323.322072</td>\n",
       "    </tr>\n",
       "    <tr>\n",
       "      <th>lead_time</th>\n",
       "      <td>9431.0</td>\n",
       "      <td>7.188990</td>\n",
       "      <td>4.241012</td>\n",
       "      <td>0.000000</td>\n",
       "      <td>4.00</td>\n",
       "      <td>8.00</td>\n",
       "      <td>8.00</td>\n",
       "      <td>26.974379</td>\n",
       "    </tr>\n",
       "    <tr>\n",
       "      <th>in_transit_qty</th>\n",
       "      <td>9431.0</td>\n",
       "      <td>16.582081</td>\n",
       "      <td>94.058908</td>\n",
       "      <td>0.000000</td>\n",
       "      <td>0.00</td>\n",
       "      <td>0.00</td>\n",
       "      <td>0.00</td>\n",
       "      <td>1074.988970</td>\n",
       "    </tr>\n",
       "    <tr>\n",
       "      <th>forecast_3_month</th>\n",
       "      <td>9431.0</td>\n",
       "      <td>96.780524</td>\n",
       "      <td>454.409526</td>\n",
       "      <td>0.000000</td>\n",
       "      <td>0.00</td>\n",
       "      <td>0.00</td>\n",
       "      <td>15.00</td>\n",
       "      <td>4643.480825</td>\n",
       "    </tr>\n",
       "    <tr>\n",
       "      <th>forecast_6_month</th>\n",
       "      <td>9431.0</td>\n",
       "      <td>177.519070</td>\n",
       "      <td>810.461063</td>\n",
       "      <td>0.000000</td>\n",
       "      <td>0.00</td>\n",
       "      <td>0.00</td>\n",
       "      <td>30.00</td>\n",
       "      <td>8003.910544</td>\n",
       "    </tr>\n",
       "    <tr>\n",
       "      <th>forecast_9_month</th>\n",
       "      <td>9431.0</td>\n",
       "      <td>252.663958</td>\n",
       "      <td>1133.570436</td>\n",
       "      <td>0.000000</td>\n",
       "      <td>0.00</td>\n",
       "      <td>1.00</td>\n",
       "      <td>42.00</td>\n",
       "      <td>10932.322837</td>\n",
       "    </tr>\n",
       "    <tr>\n",
       "      <th>sales_1_month</th>\n",
       "      <td>9431.0</td>\n",
       "      <td>26.152679</td>\n",
       "      <td>107.751881</td>\n",
       "      <td>0.000000</td>\n",
       "      <td>0.00</td>\n",
       "      <td>0.00</td>\n",
       "      <td>6.00</td>\n",
       "      <td>918.942529</td>\n",
       "    </tr>\n",
       "    <tr>\n",
       "      <th>sales_3_month</th>\n",
       "      <td>9431.0</td>\n",
       "      <td>78.177688</td>\n",
       "      <td>309.761536</td>\n",
       "      <td>0.000000</td>\n",
       "      <td>0.00</td>\n",
       "      <td>2.00</td>\n",
       "      <td>18.00</td>\n",
       "      <td>2563.821240</td>\n",
       "    </tr>\n",
       "    <tr>\n",
       "      <th>sales_6_month</th>\n",
       "      <td>9431.0</td>\n",
       "      <td>151.131473</td>\n",
       "      <td>595.381871</td>\n",
       "      <td>0.000000</td>\n",
       "      <td>0.00</td>\n",
       "      <td>4.00</td>\n",
       "      <td>36.00</td>\n",
       "      <td>4860.686557</td>\n",
       "    </tr>\n",
       "    <tr>\n",
       "      <th>sales_9_month</th>\n",
       "      <td>9431.0</td>\n",
       "      <td>226.595561</td>\n",
       "      <td>888.093101</td>\n",
       "      <td>0.000000</td>\n",
       "      <td>0.00</td>\n",
       "      <td>6.00</td>\n",
       "      <td>52.00</td>\n",
       "      <td>7055.938041</td>\n",
       "    </tr>\n",
       "    <tr>\n",
       "      <th>min_bank</th>\n",
       "      <td>9431.0</td>\n",
       "      <td>26.138752</td>\n",
       "      <td>106.645216</td>\n",
       "      <td>0.000000</td>\n",
       "      <td>0.00</td>\n",
       "      <td>0.00</td>\n",
       "      <td>3.00</td>\n",
       "      <td>972.246725</td>\n",
       "    </tr>\n",
       "    <tr>\n",
       "      <th>pieces_past_due</th>\n",
       "      <td>9431.0</td>\n",
       "      <td>0.751588</td>\n",
       "      <td>6.625997</td>\n",
       "      <td>0.000000</td>\n",
       "      <td>0.00</td>\n",
       "      <td>0.00</td>\n",
       "      <td>0.00</td>\n",
       "      <td>86.552251</td>\n",
       "    </tr>\n",
       "    <tr>\n",
       "      <th>perf_6_month_avg</th>\n",
       "      <td>9431.0</td>\n",
       "      <td>0.210105</td>\n",
       "      <td>4.564360</td>\n",
       "      <td>-36.916682</td>\n",
       "      <td>0.68</td>\n",
       "      <td>0.83</td>\n",
       "      <td>0.97</td>\n",
       "      <td>1.000000</td>\n",
       "    </tr>\n",
       "    <tr>\n",
       "      <th>perf_12_month_avg</th>\n",
       "      <td>9431.0</td>\n",
       "      <td>0.438304</td>\n",
       "      <td>3.193069</td>\n",
       "      <td>-30.632594</td>\n",
       "      <td>0.67</td>\n",
       "      <td>0.82</td>\n",
       "      <td>0.95</td>\n",
       "      <td>1.000000</td>\n",
       "    </tr>\n",
       "    <tr>\n",
       "      <th>local_bo_qty</th>\n",
       "      <td>9431.0</td>\n",
       "      <td>0.743962</td>\n",
       "      <td>7.978415</td>\n",
       "      <td>0.000000</td>\n",
       "      <td>0.00</td>\n",
       "      <td>0.00</td>\n",
       "      <td>0.00</td>\n",
       "      <td>140.100112</td>\n",
       "    </tr>\n",
       "  </tbody>\n",
       "</table>\n",
       "</div>"
      ],
      "text/plain": [
       "                    count        mean          std          min   25%    50%  \\\n",
       "national_inv       9431.0  193.410146   939.261849 -2999.000000  2.50  10.00   \n",
       "lead_time          9431.0    7.188990     4.241012     0.000000  4.00   8.00   \n",
       "in_transit_qty     9431.0   16.582081    94.058908     0.000000  0.00   0.00   \n",
       "forecast_3_month   9431.0   96.780524   454.409526     0.000000  0.00   0.00   \n",
       "forecast_6_month   9431.0  177.519070   810.461063     0.000000  0.00   0.00   \n",
       "forecast_9_month   9431.0  252.663958  1133.570436     0.000000  0.00   1.00   \n",
       "sales_1_month      9431.0   26.152679   107.751881     0.000000  0.00   0.00   \n",
       "sales_3_month      9431.0   78.177688   309.761536     0.000000  0.00   2.00   \n",
       "sales_6_month      9431.0  151.131473   595.381871     0.000000  0.00   4.00   \n",
       "sales_9_month      9431.0  226.595561   888.093101     0.000000  0.00   6.00   \n",
       "min_bank           9431.0   26.138752   106.645216     0.000000  0.00   0.00   \n",
       "pieces_past_due    9431.0    0.751588     6.625997     0.000000  0.00   0.00   \n",
       "perf_6_month_avg   9431.0    0.210105     4.564360   -36.916682  0.68   0.83   \n",
       "perf_12_month_avg  9431.0    0.438304     3.193069   -30.632594  0.67   0.82   \n",
       "local_bo_qty       9431.0    0.743962     7.978415     0.000000  0.00   0.00   \n",
       "\n",
       "                     75%           max  \n",
       "national_inv       52.00  12323.322072  \n",
       "lead_time           8.00     26.974379  \n",
       "in_transit_qty      0.00   1074.988970  \n",
       "forecast_3_month   15.00   4643.480825  \n",
       "forecast_6_month   30.00   8003.910544  \n",
       "forecast_9_month   42.00  10932.322837  \n",
       "sales_1_month       6.00    918.942529  \n",
       "sales_3_month      18.00   2563.821240  \n",
       "sales_6_month      36.00   4860.686557  \n",
       "sales_9_month      52.00   7055.938041  \n",
       "min_bank            3.00    972.246725  \n",
       "pieces_past_due     0.00     86.552251  \n",
       "perf_6_month_avg    0.97      1.000000  \n",
       "perf_12_month_avg   0.95      1.000000  \n",
       "local_bo_qty        0.00    140.100112  "
      ]
     },
     "execution_count": 24,
     "metadata": {},
     "output_type": "execute_result"
    }
   ],
   "source": [
    "num_cols.describe().T"
   ]
  },
  {
   "cell_type": "code",
   "execution_count": 25,
   "metadata": {},
   "outputs": [
    {
     "data": {
      "text/plain": [
       "(9431, 15)"
      ]
     },
     "execution_count": 25,
     "metadata": {},
     "output_type": "execute_result"
    }
   ],
   "source": [
    "num_cols.shape"
   ]
  },
  {
   "cell_type": "code",
   "execution_count": 26,
   "metadata": {},
   "outputs": [
    {
     "data": {
      "text/plain": [
       "(9431, 7)"
      ]
     },
     "execution_count": 26,
     "metadata": {},
     "output_type": "execute_result"
    }
   ],
   "source": [
    "cat_cols.shape"
   ]
  },
  {
   "cell_type": "code",
   "execution_count": 27,
   "metadata": {},
   "outputs": [
    {
     "data": {
      "text/plain": [
       "(9431, 22)"
      ]
     },
     "execution_count": 27,
     "metadata": {},
     "output_type": "execute_result"
    }
   ],
   "source": [
    "data1_imputed1 = pd.concat([num_cols,cat_cols],join='inner',axis=1)\n",
    "data1_imputed1.shape"
   ]
  },
  {
   "cell_type": "markdown",
   "metadata": {
    "colab_type": "text",
    "id": "HweKOP3b-Htl"
   },
   "source": [
    "### Train-Test Split"
   ]
  },
  {
   "cell_type": "code",
   "execution_count": 28,
   "metadata": {
    "colab": {
     "base_uri": "https://localhost:8080/",
     "height": 34
    },
    "colab_type": "code",
    "executionInfo": {
     "elapsed": 787,
     "status": "ok",
     "timestamp": 1582951875005,
     "user": {
      "displayName": "Kishore Kumar Varri",
      "photoUrl": "",
      "userId": "08592441580940176065"
     },
     "user_tz": -330
    },
    "id": "Zexza0FD-OVX",
    "outputId": "a568fc6e-0a94-4c21-e14e-199b5e32a652"
   },
   "outputs": [
    {
     "name": "stdout",
     "output_type": "stream",
     "text": [
      "(7544, 21) (1887, 21)\n"
     ]
    }
   ],
   "source": [
    "# Splitting the data into train and test with 20 per ratio\n",
    "X_train,X_test,y_train,y_test = train_test_split(data1.iloc[:,:-1],data1['went_on_backorder'],test_size = 0.2,)\n",
    "print(X_train.shape, X_test.shape)"
   ]
  },
  {
   "cell_type": "code",
   "execution_count": 29,
   "metadata": {},
   "outputs": [
    {
     "name": "stdout",
     "output_type": "stream",
     "text": [
      "(7081, 21) (1771, 21)\n"
     ]
    }
   ],
   "source": [
    "# Split the data1_imputed with 80 per train and 20 per test\n",
    "X_train1,X_test1,y_train1,y_test1 = train_test_split(data1_imputed.iloc[:,:-1],data1_imputed['went_on_backorder'],test_size = 0.2,)\n",
    "print(X_train1.shape, X_test1.shape)"
   ]
  },
  {
   "cell_type": "code",
   "execution_count": 30,
   "metadata": {},
   "outputs": [
    {
     "name": "stdout",
     "output_type": "stream",
     "text": [
      "(7544, 21) (1887, 21)\n"
     ]
    }
   ],
   "source": [
    "# Split the data1_imputed1 with 75 per train and 25 per test\n",
    "X_train2,X_test2,y_train2,y_test2 = train_test_split(data1_imputed1.iloc[:,:-1],data1_imputed1['went_on_backorder'],test_size = 0.25,)\n",
    "print(X_train.shape, X_test.shape)"
   ]
  },
  {
   "cell_type": "markdown",
   "metadata": {},
   "source": [
    "### Correlation"
   ]
  },
  {
   "cell_type": "code",
   "execution_count": 31,
   "metadata": {},
   "outputs": [
    {
     "data": {
      "image/png": "[encoded data removed]",
      "text/plain": [
       "<Figure size 1008x720 with 2 Axes>"
      ]
     },
     "metadata": {},
     "output_type": "display_data"
    }
   ],
   "source": [
    "import seaborn as sns\n",
    "# Compute the correlation matrix\n",
    "\n",
    "corr = num_cols.corr()\n",
    "corr_final = np.abs(corr)\n",
    "\n",
    "\n",
    "\n",
    "# Generate a mask for the upper triangle\n",
    "mask = np.triu(np.ones_like(corr, dtype=np.bool))\n",
    "\n",
    "# Set up the matplotlib figure\n",
    "f, ax = plt.subplots(figsize=(14,10))\n",
    "\n",
    "# Generate a custom diverging colormap\n",
    "cmap = sns.diverging_palette(220, 10, as_cmap=True)\n",
    "\n",
    "# Draw the heatmap with the mask and correct aspect ratio\n",
    "ax = sns.heatmap(corr_final, mask=mask, cmap=cmap, vmax=1, center=0, annot=True,\n",
    "            square=True, linewidths=2, cbar_kws={\"shrink\": .5})\n",
    "\n",
    "plt.xticks(rotation=50, fontsize=\"10\", va=\"center\")\n",
    "#ax.set_xticks()\n",
    "plt.show()"
   ]
  },
  {
   "cell_type": "markdown",
   "metadata": {},
   "source": [
    "### Function declarations"
   ]
  },
  {
   "cell_type": "code",
   "execution_count": 35,
   "metadata": {
    "colab": {},
    "colab_type": "code",
    "id": "JYJp3Qo5viNe"
   },
   "outputs": [],
   "source": [
    "\n",
    "from sklearn.metrics import accuracy_score,recall_score,precision_score,f1_score\n",
    "\n",
    "\n",
    "scores = pd.DataFrame(columns=['Model','Train_Accuracy','Train_Recall','Train_Precision','Train_F1_Score','Test_Accuracy','Test_Recall','Test_Precision','Test_F1_Score'])\n",
    "\n",
    "def get_metrics(train_actual,train_predicted,test_actual,test_predicted,model_description,dataframe):\n",
    "    train_accuracy = accuracy_score(train_actual,train_predicted)\n",
    "    train_recall   = recall_score(train_actual,train_predicted)\n",
    "    train_precision= precision_score(train_actual,train_predicted)\n",
    "    train_f1score  = f1_score(train_actual,train_predicted)\n",
    "    test_accuracy = accuracy_score(test_actual,test_predicted)\n",
    "    test_recall   = recall_score(test_actual,test_predicted)\n",
    "    test_precision= precision_score(test_actual,test_predicted)\n",
    "    test_f1score  = f1_score(test_actual,test_predicted)\n",
    "    dataframe = dataframe.append(pd.Series([model_description, train_accuracy,train_recall,train_precision,train_f1score,\n",
    "                                            test_accuracy,test_recall,test_precision,test_f1score],\n",
    "                                           index=scores.columns ), ignore_index=True)\n",
    "    return(dataframe)"
   ]
  },
  {
   "cell_type": "code",
   "execution_count": 36,
   "metadata": {
    "colab": {},
    "colab_type": "code",
    "id": "Vd9891yaxMtM"
   },
   "outputs": [],
   "source": [
    "from sklearn.metrics import classification_report\n",
    "\n",
    "\n",
    "def classifcation_report_train_test(y_train, y_train_pred, y_test, y_test_pred):\n",
    "\n",
    "    print('''\n",
    "            =========================================\n",
    "               CLASSIFICATION REPORT FOR TRAIN DATA\n",
    "            =========================================\n",
    "            ''')\n",
    "    print(classification_report(y_train, y_train_pred))\n",
    "\n",
    "    print('''\n",
    "            =========================================\n",
    "               CLASSIFICATION REPORT FOR TEST DATA\n",
    "            =========================================\n",
    "            ''')\n",
    "    print(classification_report(y_test, y_test_pred))"
   ]
  },
  {
   "cell_type": "markdown",
   "metadata": {
    "colab_type": "text",
    "id": "LaCrCouj867P"
   },
   "source": [
    "## 1) SVC on Rawdata"
   ]
  },
  {
   "cell_type": "markdown",
   "metadata": {},
   "source": [
    "## Plain SVC"
   ]
  },
  {
   "cell_type": "code",
   "execution_count": 37,
   "metadata": {
    "colab": {
     "base_uri": "https://localhost:8080/",
     "height": 85
    },
    "colab_type": "code",
    "executionInfo": {
     "elapsed": 1266,
     "status": "ok",
     "timestamp": 1582951928574,
     "user": {
      "displayName": "Kishore Kumar Varri",
      "photoUrl": "",
      "userId": "08592441580940176065"
     },
     "user_tz": -330
    },
    "id": "VYrAOe4L8-4f",
    "outputId": "2fece32d-9a0a-4511-e00c-a452a710410b"
   },
   "outputs": [
    {
     "data": {
      "text/plain": [
       "SVC(C=1.0, cache_size=200, class_weight=None, coef0=0.0,\n",
       "  decision_function_shape='ovr', degree=3, gamma='auto', kernel='rbf',\n",
       "  max_iter=-1, probability=False, random_state=None, shrinking=True,\n",
       "  tol=0.001, verbose=False)"
      ]
     },
     "execution_count": 37,
     "metadata": {},
     "output_type": "execute_result"
    }
   ],
   "source": [
    "## Build a SVM Classifier\n",
    "from sklearn.svm import SVC\n",
    "\n",
    "## Create an SVC object and print it to see the default arguments\n",
    "\n",
    "svc = SVC()\n",
    "svc"
   ]
  },
  {
   "cell_type": "code",
   "execution_count": 38,
   "metadata": {
    "colab": {
     "base_uri": "https://localhost:8080/",
     "height": 85
    },
    "colab_type": "code",
    "executionInfo": {
     "elapsed": 51227,
     "status": "ok",
     "timestamp": 1582951980618,
     "user": {
      "displayName": "Kishore Kumar Varri",
      "photoUrl": "",
      "userId": "08592441580940176065"
     },
     "user_tz": -330
    },
    "id": "tNz1cAm1v0Yi",
    "outputId": "dc04d2c9-bc51-487a-ebca-efc06ad03dbc"
   },
   "outputs": [
    {
     "data": {
      "text/plain": [
       "SVC(C=1.0, cache_size=200, class_weight=None, coef0=0.0,\n",
       "  decision_function_shape='ovr', degree=3, gamma='auto', kernel='rbf',\n",
       "  max_iter=-1, probability=False, random_state=None, shrinking=True,\n",
       "  tol=0.001, verbose=False)"
      ]
     },
     "execution_count": 38,
     "metadata": {},
     "output_type": "execute_result"
    }
   ],
   "source": [
    "## Fit X_train,X_test,y_train,y_test\n",
    "\n",
    "svc.fit(X_train1,y_train1)"
   ]
  },
  {
   "cell_type": "code",
   "execution_count": 42,
   "metadata": {
    "colab": {},
    "colab_type": "code",
    "id": "W043Wd_Gv4-A"
   },
   "outputs": [
    {
     "data": {
      "text/plain": [
       "<bound method Series.var of 3248    0\n",
       "7131    0\n",
       "5007    0\n",
       "6001    0\n",
       "6957    1\n",
       "2844    0\n",
       "8379    0\n",
       "5113    0\n",
       "709     0\n",
       "4251    0\n",
       "7690    0\n",
       "1324    0\n",
       "1138    0\n",
       "136     0\n",
       "1808    1\n",
       "8479    0\n",
       "4910    0\n",
       "8905    0\n",
       "4487    1\n",
       "4731    1\n",
       "4097    0\n",
       "6417    0\n",
       "8030    0\n",
       "7714    0\n",
       "3418    0\n",
       "4500    0\n",
       "4750    0\n",
       "3754    0\n",
       "5302    0\n",
       "6180    1\n",
       "       ..\n",
       "4934    0\n",
       "9731    0\n",
       "4057    0\n",
       "6987    1\n",
       "4808    0\n",
       "9164    1\n",
       "7522    0\n",
       "8348    0\n",
       "7745    0\n",
       "5622    0\n",
       "4059    1\n",
       "4215    0\n",
       "1093    0\n",
       "8395    0\n",
       "3141    0\n",
       "3796    0\n",
       "8159    0\n",
       "9732    0\n",
       "7523    0\n",
       "6643    0\n",
       "5996    0\n",
       "2265    0\n",
       "4956    0\n",
       "8772    0\n",
       "2541    0\n",
       "6260    0\n",
       "9843    0\n",
       "1762    0\n",
       "6246    0\n",
       "8044    0\n",
       "Name: went_on_backorder, Length: 7081, dtype: category\n",
       "Categories (2, int64): [0, 1]>"
      ]
     },
     "execution_count": 42,
     "metadata": {},
     "output_type": "execute_result"
    }
   ],
   "source": [
    "# Predict\n",
    "\n",
    "y_train_pred_svc1 = svc.predict(X_train1)\n",
    "y_test_pred_svc1 = svc.predict(X_test1)\n",
    "\n",
    "y_train_pred_svc1.var\n",
    "y_train1."
   ]
  },
  {
   "cell_type": "code",
   "execution_count": 43,
   "metadata": {
    "colab": {
     "base_uri": "https://localhost:8080/",
     "height": 80
    },
    "colab_type": "code",
    "executionInfo": {
     "elapsed": 42534,
     "status": "ok",
     "timestamp": 1582952133793,
     "user": {
      "displayName": "Kishore Kumar Varri",
      "photoUrl": "",
      "userId": "08592441580940176065"
     },
     "user_tz": -330
    },
    "id": "CQYA3wtgwBon",
    "outputId": "cbee5f91-b5fb-4c98-9e01-dea9fd0bb8f3"
   },
   "outputs": [
    {
     "data": {
      "text/html": [
       "<div>\n",
       "<style scoped>\n",
       "    .dataframe tbody tr th:only-of-type {\n",
       "        vertical-align: middle;\n",
       "    }\n",
       "\n",
       "    .dataframe tbody tr th {\n",
       "        vertical-align: top;\n",
       "    }\n",
       "\n",
       "    .dataframe thead th {\n",
       "        text-align: right;\n",
       "    }\n",
       "</style>\n",
       "<table border=\"1\" class=\"dataframe\">\n",
       "  <thead>\n",
       "    <tr style=\"text-align: right;\">\n",
       "      <th></th>\n",
       "      <th>Model</th>\n",
       "      <th>Train_Accuracy</th>\n",
       "      <th>Train_Recall</th>\n",
       "      <th>Train_Precision</th>\n",
       "      <th>Train_F1_Score</th>\n",
       "      <th>Test_Accuracy</th>\n",
       "      <th>Test_Recall</th>\n",
       "      <th>Test_Precision</th>\n",
       "      <th>Test_F1_Score</th>\n",
       "    </tr>\n",
       "  </thead>\n",
       "  <tbody>\n",
       "    <tr>\n",
       "      <th>0</th>\n",
       "      <td>Plain SVC with Clipping1</td>\n",
       "      <td>0.964977</td>\n",
       "      <td>0.860656</td>\n",
       "      <td>0.949836</td>\n",
       "      <td>0.903049</td>\n",
       "      <td>0.83004</td>\n",
       "      <td>0.255495</td>\n",
       "      <td>0.756098</td>\n",
       "      <td>0.38193</td>\n",
       "    </tr>\n",
       "    <tr>\n",
       "      <th>1</th>\n",
       "      <td>Plain SVC with Clipping1</td>\n",
       "      <td>0.964977</td>\n",
       "      <td>0.860656</td>\n",
       "      <td>0.949836</td>\n",
       "      <td>0.903049</td>\n",
       "      <td>0.83004</td>\n",
       "      <td>0.255495</td>\n",
       "      <td>0.756098</td>\n",
       "      <td>0.38193</td>\n",
       "    </tr>\n",
       "  </tbody>\n",
       "</table>\n",
       "</div>"
      ],
      "text/plain": [
       "                      Model  Train_Accuracy  Train_Recall  Train_Precision  \\\n",
       "0  Plain SVC with Clipping1        0.964977      0.860656         0.949836   \n",
       "1  Plain SVC with Clipping1        0.964977      0.860656         0.949836   \n",
       "\n",
       "   Train_F1_Score  Test_Accuracy  Test_Recall  Test_Precision  Test_F1_Score  \n",
       "0        0.903049        0.83004     0.255495        0.756098        0.38193  \n",
       "1        0.903049        0.83004     0.255495        0.756098        0.38193  "
      ]
     },
     "execution_count": 43,
     "metadata": {},
     "output_type": "execute_result"
    }
   ],
   "source": [
    "scores = get_metrics(y_train1,y_train_pred_svc1,y_test1,y_test_pred_svc1,\"Plain SVC with Clipping1\",scores)\n",
    "scores"
   ]
  },
  {
   "cell_type": "code",
   "execution_count": 112,
   "metadata": {
    "colab": {
     "base_uri": "https://localhost:8080/",
     "height": 493
    },
    "colab_type": "code",
    "executionInfo": {
     "elapsed": 39823,
     "status": "ok",
     "timestamp": 1582952133794,
     "user": {
      "displayName": "Kishore Kumar Varri",
      "photoUrl": "",
      "userId": "08592441580940176065"
     },
     "user_tz": -330
    },
    "id": "V5IU9uNMxK1N",
    "outputId": "cf318700-8af5-4fcb-960d-2c2206fadde6"
   },
   "outputs": [
    {
     "name": "stdout",
     "output_type": "stream",
     "text": [
      "\n",
      "            =========================================\n",
      "               CLASSIFICATION REPORT FOR TRAIN DATA\n",
      "            =========================================\n",
      "            \n",
      "             precision    recall  f1-score   support\n",
      "\n",
      "          0       0.97      0.99      0.98      5724\n",
      "          1       0.96      0.88      0.92      1357\n",
      "\n",
      "avg / total       0.97      0.97      0.97      7081\n",
      "\n",
      "\n",
      "            =========================================\n",
      "               CLASSIFICATION REPORT FOR TEST DATA\n",
      "            =========================================\n",
      "            \n",
      "             precision    recall  f1-score   support\n",
      "\n",
      "          0       0.85      0.98      0.91      1422\n",
      "          1       0.77      0.27      0.40       349\n",
      "\n",
      "avg / total       0.83      0.84      0.81      1771\n",
      "\n"
     ]
    }
   ],
   "source": [
    "# Classification Report\n",
    "\n",
    "classifcation_report_train_test(y_train1, y_train_pred_svc1, y_test1, y_test_pred_svc1)"
   ]
  },
  {
   "cell_type": "markdown",
   "metadata": {},
   "source": [
    "## SVC implementation by setting class_weight = balance"
   ]
  },
  {
   "cell_type": "code",
   "execution_count": 116,
   "metadata": {
    "colab": {
     "base_uri": "https://localhost:8080/",
     "height": 85
    },
    "colab_type": "code",
    "executionInfo": {
     "elapsed": 1231,
     "status": "ok",
     "timestamp": 1582892993433,
     "user": {
      "displayName": "Kishore Kumar Varri",
      "photoUrl": "",
      "userId": "08592441580940176065"
     },
     "user_tz": -330
    },
    "id": "WAtncb1JxiwP",
    "outputId": "ba50a15f-ce5f-4f37-fd3b-681562d87066"
   },
   "outputs": [],
   "source": [
    "# SVC implementation with class_weight as balanced or svc_balanced = SVC(class_weight={0:0.1,1:0.9})\n",
    "svc_balanced = SVC(class_weight=\"balanced\")"
   ]
  },
  {
   "cell_type": "code",
   "execution_count": 118,
   "metadata": {
    "colab": {
     "base_uri": "https://localhost:8080/",
     "height": 85
    },
    "colab_type": "code",
    "executionInfo": {
     "elapsed": 156981,
     "status": "ok",
     "timestamp": 1582893159991,
     "user": {
      "displayName": "Kishore Kumar Varri",
      "photoUrl": "",
      "userId": "08592441580940176065"
     },
     "user_tz": -330
    },
    "id": "RDDbkeA-xmbx",
    "outputId": "9602de8d-16fc-4eda-9195-80eb80dedb08"
   },
   "outputs": [
    {
     "data": {
      "text/plain": [
       "SVC(C=1.0, cache_size=200, class_weight='balanced', coef0=0.0,\n",
       "  decision_function_shape='ovr', degree=3, gamma='auto', kernel='rbf',\n",
       "  max_iter=-1, probability=False, random_state=None, shrinking=True,\n",
       "  tol=0.001, verbose=False)"
      ]
     },
     "execution_count": 118,
     "metadata": {},
     "output_type": "execute_result"
    }
   ],
   "source": [
    "# Fit \n",
    "svc_balanced.fit(X_train,y_train)"
   ]
  },
  {
   "cell_type": "code",
   "execution_count": 119,
   "metadata": {
    "colab": {},
    "colab_type": "code",
    "id": "Hd8IG7TkxpIf"
   },
   "outputs": [],
   "source": [
    "# Predict\n",
    "\n",
    "y_train_pred_bal = svc_balanced.predict(X_train)\n",
    "y_test_pred_bal = svc_balanced.predict(X_test)"
   ]
  },
  {
   "cell_type": "code",
   "execution_count": 120,
   "metadata": {
    "colab": {
     "base_uri": "https://localhost:8080/",
     "height": 142
    },
    "colab_type": "code",
    "executionInfo": {
     "elapsed": 900,
     "status": "ok",
     "timestamp": 1582893907476,
     "user": {
      "displayName": "Kishore Kumar Varri",
      "photoUrl": "",
      "userId": "08592441580940176065"
     },
     "user_tz": -330
    },
    "id": "Ljsa5V64xvp5",
    "outputId": "46d16e09-85a9-47aa-f503-d5fcd9ece235"
   },
   "outputs": [
    {
     "data": {
      "text/html": [
       "<div>\n",
       "<style scoped>\n",
       "    .dataframe tbody tr th:only-of-type {\n",
       "        vertical-align: middle;\n",
       "    }\n",
       "\n",
       "    .dataframe tbody tr th {\n",
       "        vertical-align: top;\n",
       "    }\n",
       "\n",
       "    .dataframe thead th {\n",
       "        text-align: right;\n",
       "    }\n",
       "</style>\n",
       "<table border=\"1\" class=\"dataframe\">\n",
       "  <thead>\n",
       "    <tr style=\"text-align: right;\">\n",
       "      <th></th>\n",
       "      <th>Model</th>\n",
       "      <th>Train_Accuracy</th>\n",
       "      <th>Train_Recall</th>\n",
       "      <th>Train_Precision</th>\n",
       "      <th>Train_F1_Score</th>\n",
       "      <th>Test_Accuracy</th>\n",
       "      <th>Test_Recall</th>\n",
       "      <th>Test_Precision</th>\n",
       "      <th>Test_F1_Score</th>\n",
       "    </tr>\n",
       "  </thead>\n",
       "  <tbody>\n",
       "    <tr>\n",
       "      <th>0</th>\n",
       "      <td>Plain SVC with Clipping</td>\n",
       "      <td>0.968319</td>\n",
       "      <td>0.878303</td>\n",
       "      <td>0.951771</td>\n",
       "      <td>0.913562</td>\n",
       "      <td>0.845787</td>\n",
       "      <td>0.261708</td>\n",
       "      <td>0.805085</td>\n",
       "      <td>0.395010</td>\n",
       "    </tr>\n",
       "    <tr>\n",
       "      <th>1</th>\n",
       "      <td>Plain SVC with Clipping1</td>\n",
       "      <td>0.969072</td>\n",
       "      <td>0.878408</td>\n",
       "      <td>0.956661</td>\n",
       "      <td>0.915866</td>\n",
       "      <td>0.840203</td>\n",
       "      <td>0.269341</td>\n",
       "      <td>0.770492</td>\n",
       "      <td>0.399151</td>\n",
       "    </tr>\n",
       "    <tr>\n",
       "      <th>2</th>\n",
       "      <td>SVC with Class_weight as Balanced</td>\n",
       "      <td>0.958908</td>\n",
       "      <td>0.972879</td>\n",
       "      <td>0.837725</td>\n",
       "      <td>0.900257</td>\n",
       "      <td>0.842607</td>\n",
       "      <td>0.396694</td>\n",
       "      <td>0.648649</td>\n",
       "      <td>0.492308</td>\n",
       "    </tr>\n",
       "  </tbody>\n",
       "</table>\n",
       "</div>"
      ],
      "text/plain": [
       "                               Model  Train_Accuracy  Train_Recall  \\\n",
       "0            Plain SVC with Clipping        0.968319      0.878303   \n",
       "1           Plain SVC with Clipping1        0.969072      0.878408   \n",
       "2  SVC with Class_weight as Balanced        0.958908      0.972879   \n",
       "\n",
       "   Train_Precision  Train_F1_Score  Test_Accuracy  Test_Recall  \\\n",
       "0         0.951771        0.913562       0.845787     0.261708   \n",
       "1         0.956661        0.915866       0.840203     0.269341   \n",
       "2         0.837725        0.900257       0.842607     0.396694   \n",
       "\n",
       "   Test_Precision  Test_F1_Score  \n",
       "0        0.805085       0.395010  \n",
       "1        0.770492       0.399151  \n",
       "2        0.648649       0.492308  "
      ]
     },
     "execution_count": 120,
     "metadata": {},
     "output_type": "execute_result"
    }
   ],
   "source": [
    "scores = get_metrics(y_train,y_train_pred_bal,y_test,y_test_pred_bal,\"SVC with Class_weight as Balanced\",scores)\n",
    "scores"
   ]
  },
  {
   "cell_type": "code",
   "execution_count": 45,
   "metadata": {
    "colab": {
     "base_uri": "https://localhost:8080/",
     "height": 493
    },
    "colab_type": "code",
    "executionInfo": {
     "elapsed": 1237,
     "status": "ok",
     "timestamp": 1582893298226,
     "user": {
      "displayName": "Kishore Kumar Varri",
      "photoUrl": "",
      "userId": "08592441580940176065"
     },
     "user_tz": -330
    },
    "id": "kYaGye15xyMT",
    "outputId": "1fee2e31-0d66-479d-a97b-7a34de1409cf"
   },
   "outputs": [
    {
     "name": "stdout",
     "output_type": "stream",
     "text": [
      "\n",
      "            =========================================\n",
      "               CLASSIFICATION REPORT FOR TRAIN DATA\n",
      "            =========================================\n",
      "            \n",
      "              precision    recall  f1-score   support\n",
      "\n",
      "           0       0.99      0.96      0.97      6103\n",
      "           1       0.84      0.97      0.90      1441\n",
      "\n",
      "   micro avg       0.96      0.96      0.96      7544\n",
      "   macro avg       0.92      0.96      0.94      7544\n",
      "weighted avg       0.96      0.96      0.96      7544\n",
      "\n",
      "\n",
      "            =========================================\n",
      "               CLASSIFICATION REPORT FOR TEST DATA\n",
      "            =========================================\n",
      "            \n",
      "              precision    recall  f1-score   support\n",
      "\n",
      "           0       0.86      0.95      0.90      1527\n",
      "           1       0.61      0.36      0.45       360\n",
      "\n",
      "   micro avg       0.83      0.83      0.83      1887\n",
      "   macro avg       0.74      0.65      0.68      1887\n",
      "weighted avg       0.82      0.83      0.82      1887\n",
      "\n"
     ]
    }
   ],
   "source": [
    "# Classification Report\n",
    "\n",
    "classifcation_report_train_test(y_train, , y_test, y_test_pred_bal)"
   ]
  },
  {
   "cell_type": "code",
   "execution_count": 46,
   "metadata": {
    "colab": {},
    "colab_type": "code",
    "id": "YqX6x2Ufx1fY"
   },
   "outputs": [],
   "source": [
    "## Use Grid Search for parameter tuning\n",
    "\n",
    "from sklearn.model_selection import GridSearchCV\n",
    "\n",
    "svc_grid = SVC(class_weight='balanced',random_state=1234)\n",
    " \n",
    "\n",
    "param_grid = {\n",
    "\n",
    "'C': [0.001, 0.01, 0.1, 1, 10],\n",
    "'gamma': [0.001, 0.01, 0.1, 1], \n",
    "'kernel':['linear', 'rbf']}\n",
    "\n",
    " \n",
    "svc_cv_grid = GridSearchCV(estimator = svc_grid, param_grid = param_grid, cv = 10,scoring='recall',n_jobs=-1,\n",
    "                          verbose=3)"
   ]
  },
  {
   "cell_type": "code",
   "execution_count": 47,
   "metadata": {
    "colab": {},
    "colab_type": "code",
    "id": "trjk8A7cx4W8"
   },
   "outputs": [],
   "source": [
    "param_grid = {\n",
    "\n",
    "'C': [9.3,9.4,9.5,9.6],\n",
    "'gamma': [0.48,0.49,0.5,0.51,0.52,0.53], \n",
    "'kernel':['linear', 'rbf']}\n",
    "\n",
    " \n",
    "svc_cv_grid = GridSearchCV(estimator = svc_grid, param_grid = param_grid, cv = 10)"
   ]
  },
  {
   "cell_type": "code",
   "execution_count": null,
   "metadata": {
    "colab": {
     "base_uri": "https://localhost:8080/",
     "height": 85
    },
    "colab_type": "code",
    "executionInfo": {
     "elapsed": 385671,
     "status": "ok",
     "timestamp": 1582893816873,
     "user": {
      "displayName": "Kishore Kumar Varri",
      "photoUrl": "",
      "userId": "08592441580940176065"
     },
     "user_tz": -330
    },
    "id": "8kIBxMUCx7pB",
    "outputId": "96c84aa4-ec12-4b9d-b5ab-320a3bdc4944"
   },
   "outputs": [],
   "source": [
    "# Fit the grid search model\n",
    "\n",
    "svc_cv_grid.fit(X = , y = )"
   ]
  },
  {
   "cell_type": "code",
   "execution_count": null,
   "metadata": {
    "colab": {},
    "colab_type": "code",
    "id": "8o7PgY61x_TJ"
   },
   "outputs": [],
   "source": [
    "# Display the best model\n",
    "\n",
    "svc_cv_grid."
   ]
  },
  {
   "cell_type": "code",
   "execution_count": null,
   "metadata": {
    "colab": {},
    "colab_type": "code",
    "id": "KWwjr9ClyAxf"
   },
   "outputs": [],
   "source": [
    "# Obtain the predictions using the best model\n",
    "\n",
    "y_train_pred_svc_best = svc_cv_grid.best_estimator_.(X_train)\n",
    "y_test_pred_svc_best = svc_cv_grid.best_estimator_.predict()"
   ]
  },
  {
   "cell_type": "code",
   "execution_count": null,
   "metadata": {
    "colab": {},
    "colab_type": "code",
    "id": "XdITrc81zSBj"
   },
   "outputs": [],
   "source": [
    "# Obtain the predictions using the best model\n",
    "\n",
    "y_train_pred_svc_best = svc_cv_grid.predict()\n",
    "y_test_pred_svc_best = svc_cv_grid.(X_test)"
   ]
  },
  {
   "cell_type": "code",
   "execution_count": null,
   "metadata": {
    "colab": {
     "base_uri": "https://localhost:8080/",
     "height": 173
    },
    "colab_type": "code",
    "executionInfo": {
     "elapsed": 935,
     "status": "ok",
     "timestamp": 1582894031917,
     "user": {
      "displayName": "Kishore Kumar Varri",
      "photoUrl": "",
      "userId": "08592441580940176065"
     },
     "user_tz": -330
    },
    "id": "A0a31LXNyCz9",
    "outputId": "2c901afb-6355-449b-9803-cc7ea1e043e4"
   },
   "outputs": [],
   "source": [
    "scores = get_metrics(y_train,,y_test,y_test_pred_svc_best,\"SVC with Tuning Parameters\",scores)\n",
    "scores"
   ]
  },
  {
   "cell_type": "code",
   "execution_count": null,
   "metadata": {
    "colab": {
     "base_uri": "https://localhost:8080/",
     "height": 493
    },
    "colab_type": "code",
    "executionInfo": {
     "elapsed": 1170,
     "status": "ok",
     "timestamp": 1582894080145,
     "user": {
      "displayName": "Kishore Kumar Varri",
      "photoUrl": "",
      "userId": "08592441580940176065"
     },
     "user_tz": -330
    },
    "id": "4m4ZJdCByEWI",
    "outputId": "3d49d493-5efe-4e10-ae3e-536e91ddca39"
   },
   "outputs": [],
   "source": [
    "# Classification Report\n",
    "\n",
    "classifcation_report_train_test(y_train, y_train_pred_svc_best, y_test, y_test_pred_svc_best)"
   ]
  },
  {
   "cell_type": "code",
   "execution_count": null,
   "metadata": {
    "colab": {},
    "colab_type": "code",
    "id": "xQFCKk3HkwkS"
   },
   "outputs": [],
   "source": [
    "from mlxtend.plotting import plot_learning_curves\n",
    "plot_learning_curves(X_train, y_train, X_test, y_test, svc, scoring='recall')"
   ]
  },
  {
   "cell_type": "code",
   "execution_count": null,
   "metadata": {},
   "outputs": [],
   "source": []
  }
 ],
 "metadata": {
  "accelerator": "GPU",
  "colab": {
   "collapsed_sections": [],
   "name": "20200301_CSE7405c_Batch77_SVC_Classificaiton.ipynb",
   "provenance": []
  },
  "kernelspec": {
   "display_name": "Python 3",
   "language": "python",
   "name": "python3"
  },
  "language_info": {
   "codemirror_mode": {
    "name": "ipython",
    "version": 3
   },
   "file_extension": ".py",
   "mimetype": "text/x-python",
   "name": "python",
   "nbconvert_exporter": "python",
   "pygments_lexer": "ipython3",
   "version": "3.6.5"
  }
 },
 "nbformat": 4,
 "nbformat_minor": 1
}
